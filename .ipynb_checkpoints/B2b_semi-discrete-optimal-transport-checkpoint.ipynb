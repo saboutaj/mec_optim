{
 "cells": [
  {
   "cell_type": "markdown",
   "metadata": {},
   "source": [
    "# <center>Block 2b: Semi-discrete optimal transport</center>\n",
    "### <center>Alfred Galichon (NYU & Sciences Po)</center>\n",
    "## <center>'math+econ+code' masterclass on optimal transport and economic applications</center>\n",
    "#### <center>With python code examples</center>\n",
    "© 2018-2022 by Alfred Galichon. Past and present support from NSF grant DMS-1716489, ERC grant CoG-866274 are acknowledged, as well as inputs from contributors listed [here](http://www.math-econ-code.org/theteam).\n",
    "\n",
    "**If you reuse material from this masterclass, please cite as:**<br>\n",
    "Alfred Galichon, 'math+econ+code' masterclass on optimal transport and economic applications, January 2022. https://github.com/math-econ-code/mec_optim"
   ]
  },
  {
   "cell_type": "markdown",
   "metadata": {},
   "source": [
    "## References\n",
    "\n",
    "* Galichon (2016). *Optimal Transport Methods in Economics*. Chapter 5. Princeton University Press.\n",
    "\n",
    "* Anderson, de Palma, and Thisse (1992). *Discrete Choice Theory of Product Differentiation*. MIT.\n",
    "\n",
    "* Aurenhammer (1987). Power Diagrams: Properties, Algorithms and Applications. *SIAM J Computing*.\n",
    "\n",
    "* Lancaster (1966). A New Approach to Consumer Theory. *JPE*.\n",
    "\n",
    "* Berry, Pakes (2007). The Pure Characteristics Demand Model. *IER*.\n",
    "\n",
    "* Feenstra, Levinsohn (1995). Estimating Markups and Market Conduct with Multidimensional Product Attributes. *ReStud*.\n",
    "\n",
    "* Bonnet, Galichon, Shum (2017). Yoghurts Choose Consumers. Identification of Random Utility Models via Two-Sided Matching. *Mimeo*.\n",
    "\n",
    "* Leclerc, Merigot. `pysdot` library. https://github.com/sd-ot/pysdot"
   ]
  },
  {
   "cell_type": "markdown",
   "metadata": {},
   "source": [
    "# Motivation\n",
    "\n",
    "Today we'll consider a version of the transportation problem where we seek to match a continuous distribution on $\\mathbb{R}^{d}$ with a discrete distribution. This problem is called a *semi-discrete transportation* problem.\n",
    "\n",
    "Actually, we will introduce this problem not as a matching problem, but as a demand problem. We'll model the demand for facilities (such as schools, stores) in the physical space. The same approach applies to the demand for products (e.g. cars) in the characteristics space, see e.g. Lancaster (1966), Feenstra and Levinsohn (1995), and Berry and Pakes (2007).\n",
    "\n",
    "We'll simulate fountain locations on a city represented by the two dimensional square."
   ]
  },
  {
   "cell_type": "markdown",
   "metadata": {},
   "source": [
    "## Loading the libraries\n",
    "\n",
    "We shall now load the libraries that we need. They are a bit specific, as they require combinatorial geometry routines. The `pysdot` library by Hugo Leclerc and Quentin Mérigot is still at an early stage of development, but is quite promising and easy to `pip install`, so we will adopt it for this course. "
   ]
  },
  {
   "cell_type": "code",
   "execution_count": 3,
   "metadata": {},
   "outputs": [
    {
     "name": "stdout",
     "output_type": "stream",
     "text": [
      "Collecting pysdot\n",
      "  Downloading pysdot-0.2.3.tar.gz (22 kB)\n",
      "  Preparing metadata (setup.py): started\n",
      "  Preparing metadata (setup.py): finished with status 'done'\n",
      "Requirement already satisfied: numpy in c:\\users\\about\\anaconda3\\lib\\site-packages (from pysdot) (1.21.5)\n",
      "Building wheels for collected packages: pysdot\n",
      "  Building wheel for pysdot (setup.py): started\n",
      "  Building wheel for pysdot (setup.py): finished with status 'error'\n",
      "  Running setup.py clean for pysdot\n",
      "Failed to build pysdot\n",
      "Installing collected packages: pysdot\n",
      "  Running setup.py install for pysdot: started\n",
      "  Running setup.py install for pysdot: finished with status 'error'\n"
     ]
    },
    {
     "name": "stderr",
     "output_type": "stream",
     "text": [
      "  error: subprocess-exited-with-error\n",
      "  \n",
      "  python setup.py bdist_wheel did not run successfully.\n",
      "  exit code: 1\n",
      "  \n",
      "  [5 lines of output]\n",
      "  =============================== include_dirs ============================= ['ext/eigen3', 'ext/pybind11/include', '/usr/share/miniconda/envs/test/include', '$PREFIX/include', '$CONDA_PREFIX/include', 'C:\\\\Users\\\\about\\\\anaconda3/include']\n",
      "  running bdist_wheel\n",
      "  running build\n",
      "  running build_py\n",
      "  error: [WinError 2] Le fichier spécifié est introuvable\n",
      "  [end of output]\n",
      "  \n",
      "  note: This error originates from a subprocess, and is likely not a problem with pip.\n",
      "  ERROR: Failed building wheel for pysdot\n",
      "  error: subprocess-exited-with-error\n",
      "  \n",
      "  Running setup.py install for pysdot did not run successfully.\n",
      "  exit code: 1\n",
      "  \n",
      "  [7 lines of output]\n",
      "  =============================== include_dirs ============================= ['ext/eigen3', 'ext/pybind11/include', '/usr/share/miniconda/envs/test/include', '$PREFIX/include', '$CONDA_PREFIX/include', 'C:\\\\Users\\\\about\\\\anaconda3/include']\n",
      "  running install\n",
      "  C:\\Users\\about\\anaconda3\\lib\\site-packages\\setuptools\\command\\install.py:34: SetuptoolsDeprecationWarning: setup.py install is deprecated. Use build and pip and other standards-based tools.\n",
      "    warnings.warn(\n",
      "  running build\n",
      "  running build_py\n",
      "  error: [WinError 2] Le fichier spécifié est introuvable\n",
      "  [end of output]\n",
      "  \n",
      "  note: This error originates from a subprocess, and is likely not a problem with pip.\n",
      "error: legacy-install-failure\n",
      "\n",
      "Encountered error while trying to install package.\n",
      "\n",
      "pysdot\n",
      "\n",
      "note: This is an issue with the package mentioned above, not pip.\n",
      "hint: See above for output from the failure.\n"
     ]
    }
   ],
   "source": [
    "!pip install pysdot"
   ]
  },
  {
   "cell_type": "code",
   "execution_count": 4,
   "metadata": {},
   "outputs": [
    {
     "ename": "ModuleNotFoundError",
     "evalue": "No module named 'pysdot'",
     "output_type": "error",
     "traceback": [
      "\u001b[1;31m---------------------------------------------------------------------------\u001b[0m",
      "\u001b[1;31mModuleNotFoundError\u001b[0m                       Traceback (most recent call last)",
      "\u001b[1;32m~\\AppData\\Local\\Temp\\ipykernel_5036\\1057903523.py\u001b[0m in \u001b[0;36m<module>\u001b[1;34m\u001b[0m\n\u001b[1;32m----> 1\u001b[1;33m \u001b[1;32mfrom\u001b[0m \u001b[0mpysdot\u001b[0m \u001b[1;32mimport\u001b[0m \u001b[0mPowerDiagram\u001b[0m\u001b[1;33m\u001b[0m\u001b[1;33m\u001b[0m\u001b[0m\n\u001b[0m\u001b[0;32m      2\u001b[0m \u001b[1;32mfrom\u001b[0m \u001b[0mpysdot\u001b[0m\u001b[1;33m.\u001b[0m\u001b[0mradial_funcs\u001b[0m \u001b[1;32mimport\u001b[0m \u001b[0mRadialFuncUnit\u001b[0m\u001b[1;33m\u001b[0m\u001b[1;33m\u001b[0m\u001b[0m\n\u001b[0;32m      3\u001b[0m \u001b[1;32mfrom\u001b[0m \u001b[0mpysdot\u001b[0m \u001b[1;32mimport\u001b[0m \u001b[0mOptimalTransport\u001b[0m\u001b[1;33m\u001b[0m\u001b[1;33m\u001b[0m\u001b[0m\n\u001b[0;32m      4\u001b[0m \u001b[1;32mfrom\u001b[0m \u001b[0mpysdot\u001b[0m\u001b[1;33m.\u001b[0m\u001b[0mdomain_types\u001b[0m \u001b[1;32mimport\u001b[0m \u001b[0mConvexPolyhedraAssembly\u001b[0m\u001b[1;33m\u001b[0m\u001b[1;33m\u001b[0m\u001b[0m\n\u001b[0;32m      5\u001b[0m \u001b[1;32mimport\u001b[0m \u001b[0mnumpy\u001b[0m \u001b[1;32mas\u001b[0m \u001b[0mnp\u001b[0m\u001b[1;33m\u001b[0m\u001b[1;33m\u001b[0m\u001b[0m\n",
      "\u001b[1;31mModuleNotFoundError\u001b[0m: No module named 'pysdot'"
     ]
    }
   ],
   "source": [
    "from pysdot import PowerDiagram\n",
    "from pysdot.radial_funcs import RadialFuncUnit\n",
    "from pysdot import OptimalTransport\n",
    "from pysdot.domain_types import ConvexPolyhedraAssembly\n",
    "import numpy as np\n",
    "import random as rd"
   ]
  },
  {
   "cell_type": "markdown",
   "metadata": {},
   "source": [
    "## Setting\n",
    "\n",
    "Consider inhabitants of a city whose geographic coordinates are $x\\in\\mathcal{X}=\\left[0,1\\right]^{2}$. More generally, $\\mathcal{X}$ will be a convex subset of $\\mathbb{R}^{d}$ ($d=2$ is only to fix ideas). The location of inhabitants is distributed with a density of mass $n(x)$ which is positive on $\\mathcal{X}$. $n$ is assumed to have unit total mass: $\\int_\\mathcal{X} n(x)dx=1$, so it is a probability density function.\n",
    "\n",
    "There are $J$ fountains, located at points $y_{j}\\in\\mathbb{R}^{d}$, $1\\leq j\\leq J$. Fountain $j$ is assumed to have capacity $q_{j}$, which means it can serve a mass $q_j$ of inhabitants. It is assumed that $\\sum_{j}q_{j}=1$, which means that total supply equals the total demand.\n",
    "\n",
    "An inhabitant at $x$ has a transportation cost associated with using fountain located at $y$ which is proportional to the square distance to the fountain\n",
    "\n",
    "\\begin{align*}\n",
    "\\tilde{\\Phi}\\left(  x,y\\right)  :=-\\left\\vert x-y\\right\\vert ^{2}/2.\n",
    "\\label{Phistar}\n",
    "\\end{align*}\n",
    "\n",
    "Let $\\tilde{v}_{j}$ be the price charged by fountain $j$. The utility of the consumer at location $x$ is therefore $\\tilde{\\Phi}\\left(  x,y_{j}\\right) -\\tilde{v}_{j}$, and the indirect surplus of the consumer at $x$ is given by\n",
    "\n",
    "\\begin{align*}\n",
    "\\tilde{u}\\left(  x\\right)  =\\max_{j\\in\\left\\{  1,...,J\\right\\}  }\\left\\{\n",
    "\\tilde{\\Phi}\\left(  x,y_{j}\\right)  -\\tilde{v}_{j}\\right\\} \\label{ustar}\n",
    "\\end{align*}"
   ]
  },
  {
   "cell_type": "markdown",
   "metadata": {},
   "source": [
    "### A reformulation\n",
    "\n",
    "Without loss of generality, one can replace the quadratic surplus $\\tilde{\\Phi}\\left(  x,y\\right)  =-\\left\\vert x-y\\right\\vert ^{2}/2$ by the scalar product surplus\n",
    "\n",
    "\\begin{align*}\n",
    "\\Phi\\left(  x,y\\right)  :=x^{\\intercal}y. \\label{PhiScalProd}\n",
    "\\end{align*}\n",
    "\n",
    "Indeed, note that $\\tilde{\\Phi}\\left(  x,y\\right)  =\\Phi\\left(  x,y\\right) - \\left\\vert x\\right\\vert ^{2}/2 - \\left\\vert y\\right\\vert ^{2}/2$, and introduce the *reduced indirect surplus* $u\\left(  x\\right)$ and the $v_{j}$'s the *reduced prices* as\n",
    "\n",
    "\\begin{align*}\n",
    "u\\left(  x\\right)  =\\tilde{u}\\left(  x\\right)  +\\left\\vert x\\right\\vert ^{2}/2\\text{, and }v_{j}=\\tilde{v}_{j}+\\left\\vert y_{j}\\right\\vert ^{2}/2, \\label{uandv}\n",
    "\\end{align*}\n",
    "\n",
    "One immediately sees that $\\tilde{u}\\left(  x\\right)  +\\tilde{v}_{j}\\geq \\tilde{\\Phi}\\left(  x,y_{j}\\right)  $ if and only if $u\\left(  x\\right) +v_{j}\\geq\\Phi\\left(  x,y_{j}\\right)  $. It follows that the consumer at location $x$ chooses fountain $j$ that maximizes\n",
    "\n",
    "<a name=\"PWAu\"></a>\n",
    "\\begin{align*}\n",
    "u\\left(  x\\right)  =\\max_{j\\in\\left\\{  1,...,J\\right\\}  }\\left\\{  \\Phi\\left(x,y_{j}\\right)  -v_{j}\\right\\}  . \\label{PWAu}\n",
    "\\end{align*}\n",
    "\n",
    "Hence the problem can be reexpressed so that the surplus of consumer $x$ at fountain $j$ is simply $x^{\\intercal}y_{j}-v_{j}$. It is clear from inspection that (unlike $\\tilde{u}$), the reduced surplus $u$ is a piecewise affine and convex function from $\\mathbb{R}^{d}$ to $\\mathbb{R}$. The connection with convex and piecewise affine functions is the reason for\n",
    "reformulating the problem as we did."
   ]
  },
  {
   "cell_type": "markdown",
   "metadata": {},
   "source": [
    "### Power Diagrams\n",
    "\n",
    "The demand set of fountain $j$ is\n",
    "\n",
    "\\begin{align*}\n",
    "\\mathcal{X}_{j}^{v}:=\\left\\{  x\\in\\mathcal{X}:\\tilde{\\Phi}\\left(x,y_{j}\\right)  -\\tilde{v}_{j}\\geq\\tilde{\\Phi}\\left(  x,y_{k}\\right) -\\tilde{v}_{k},~\\forall k\\right\\}\n",
    "\\end{align*}\n",
    "\n",
    "which is equivalent to\n",
    "\n",
    "\\begin{align*}\n",
    "\\mathcal{X}_{j}^{v}=\\left\\{  x\\in\\mathcal{X}:x^{\\intercal}\\left(  y_{j}\n",
    "-y_{k}\\right)  \\geq v_{j}-v_{k},~\\forall k\\right\\}.\n",
    "\\end{align*}\n",
    "\n",
    "\n",
    "**Basic properties:**\n",
    "\n",
    "* $\\mathcal{X}_{j}$ is a convex polyhedron;\n",
    "\n",
    "* The intersection of $\\mathcal{X}_{j}$ and $\\mathcal{X}_{k}$'s lies in the hyperplane of equation $\\{x:x^{\\intercal}\\left(  y_{j}-y_{k}\\right) +v_{k}-v_{j}=0\\}$;\n",
    "\n",
    "* The set $\\mathcal{X}_{j}$ weakly increases when $v_{k}$ ($k\\neq j$) increases, and strictly decreases when $v_{j}$ decreases.\n",
    "\n",
    "The system of sets $\\left(  \\mathcal{X}_{j}^{v}\\right)  _{j}$ is called the *power diagram* associated to the price system $v$."
   ]
  },
  {
   "cell_type": "markdown",
   "metadata": {},
   "source": [
    "### Voronoi tesselations\n",
    "\n",
    "If fountains do not charge any fee, that is, if $\\tilde{v}_{j}=0$, or equivalently if $v_{j}=\\left\\vert y_{j}\\right\\vert ^{2}/2$, then $\\mathcal{X}_{j}^{0}$ is the set of consumers who are closer to fountain $j$ than to any other fountain. The cells $\\mathcal{X}_{j}^{0}$ form a partition of $\\mathcal{X}$ called *Voronoi tesselation*, which is a very particular case of a power diagram. The Voronoi diagrams have the property that fountain $j$ belongs to cell $\\mathcal{X}_{j}^{0}$; when $\\tilde{v}\\neq0$, this property may no longer hold for more general power diagrams."
   ]
  },
  {
   "cell_type": "markdown",
   "metadata": {},
   "source": [
    "**Example**. We will generate a Voronoi tesselations where $10$ fountains are distributed uniformly on $[0,1]^2$, and $\\tilde{v} = 0$."
   ]
  },
  {
   "cell_type": "code",
   "execution_count": null,
   "metadata": {},
   "outputs": [],
   "source": [
    "rd.seed(777)\n",
    "nCells = 10\n",
    "\n",
    "Ys = np.random.uniform(0,1,2*nCells).reshape((-1,2))\n",
    "vor_dia = PowerDiagram(Ys)\n",
    "vor_dia.display_jupyter()"
   ]
  },
  {
   "cell_type": "markdown",
   "metadata": {},
   "source": [
    "## Demand zone of a fountain\n",
    "\n",
    "The demand for fountain $j$ is given by $\\mathbb{P}_n\\left(\\mathcal{X}_{j}\\right)  = \\int_\\mathcal{X} 1\\{x\\in\\mathcal{X}_{j}\\} n(x) dx  $ where $\\mathbb{P}_n$ is the probability distribution of consumer locations.\n",
    "\n",
    "Note that in general $x^{\\intercal}y_{j}-u\\left(  x\\right)  \\leq v_{j}$; yet if consumer $x$ chooses fountain $j$, then this inequality holds as an equality. Hence, the set of consumer who prefer fountain $j$ is given by\n",
    "\n",
    "\\begin{align*}\n",
    "\\mathcal{X}_{j}=\\arg\\max_{x\\in\\mathcal{X}}\\left\\{  x^{\\intercal}y_{j}-u\\left(\n",
    "x\\right)  \\right\\}  \\label{defXj}\n",
    "\\end{align*}\n",
    "\n",
    "By first order conditions $x\\in\\mathcal{X}_{j}$ if and only if $\\nabla u\\left(x\\right) = y_{j}$ (assuming $u$ is differentiable at $x$). Therefore\n",
    "\n",
    "\\begin{align*}\n",
    "\\mathcal{X}_{j}:=\\nabla u^{-1}\\left(  \\left\\{  y_{j}\\right\\}  \\right)  .\n",
    "\\label{Demand}\n",
    "\\end{align*}"
   ]
  },
  {
   "cell_type": "markdown",
   "metadata": {},
   "source": [
    "\n",
    "---\n",
    "\n",
    "**Fountain example**. We see in the picture above that cells have different areas. The areas of the cells are given by: "
   ]
  },
  {
   "cell_type": "code",
   "execution_count": null,
   "metadata": {},
   "outputs": [],
   "source": [
    "vor_dia.integrals()"
   ]
  },
  {
   "cell_type": "markdown",
   "metadata": {},
   "source": [
    "## Equilibrium prices\n",
    "\n",
    "Introduce the social welfare of producers and consumers as\n",
    "\n",
    "<a name=\"defSbis\"></a>\n",
    "\\begin{align*}\n",
    "S\\left(  v\\right) :=\\sum_{j}q_{j}v_{j}+\\mathbb{E}_{\\mathbb{P}_n}\\left[  \\max_{j\\in\\left\\{  1,...,J\\right\\}  }\\left\\{  X^{\\intercal}y_{j}-v_{j}\\right\\} \\right]  . \\label{defSbis}\n",
    "\\end{align*}\n",
    "\n",
    "We have\n",
    "\n",
    "\\begin{align*}\n",
    "\\frac{\\partial S\\left(  v\\right)  }{\\partial v_{k}}=q_{k}-\\mathbb{E}%\n",
    "_{\\mathbb{P}_n}\\left[  1\\left\\{  \\nabla u\\left(  X\\right)  =y_{k}\\right\\}  \\right]\n",
    "=q_{k}-\\mathbb{P}_n\\left(  \\mathcal{X}_{k}^{v}\\right)  .\n",
    "\\end{align*}\n",
    "\n",
    "Thus, the excess supply for fountain $j$ is given by\n",
    "\n",
    "\\begin{align*}\n",
    "q_{k}-\\mathbb{P}_n\\left(  \\mathcal{X}_{k}^{v}\\right)  =\\frac{\\partial S\\left(  v\\right)\n",
    "}{\\partial v_{k}} \\label{exprDemand}%\n",
    "\\end{align*}\n",
    "\n",
    "where $S$ is defined by [the social welfare](#defSbis) above.\n",
    "\n",
    "Hence, market clearing prices, or equilibrium prices are prices $v$ such that demand and supply clear, that is, such that $q_{k}=\\mathbb{P}_n\\left(\\mathcal{X}_{k}^{v}\\right)$ for each $k$; in other words \n",
    "\n",
    "\\begin{align*}\n",
    "\\frac{\\partial S\\left(  v\\right)  }{\\partial v_{k}}=0.\n",
    "\\end{align*}"
   ]
  },
  {
   "cell_type": "markdown",
   "metadata": {},
   "source": [
    "## Central planner's problem\n",
    "\n",
    "The central planner may decide arbitrarily on assigning to each inhabitant $x$ a fountain $T\\left(  x\\right)  \\in\\left\\{  y_{1},...,y_{J} \\right\\}  $, in a such way that each fountain $j$ is used to its full capacity, that is\n",
    "\n",
    "\\begin{align*}\n",
    "\\mathbb{P}_n\\left(  T\\left(  X\\right)  =y_{j}\\right)  =q_{j},~\\forall j\\in\\left\\{\n",
    "1,...,J\\right\\}  . \\label{massBalance}%\n",
    "\\end{align*}\n",
    "\n",
    "The planner seeks to maximize the total surplus subject to capacity constraints; hence\n",
    "\n",
    "\\begin{align*}\n",
    "&  \\max\\mathbb{E}_{\\mathbb{P}_n}\\left[  X^{\\intercal}T\\left(  X\\right)  \\right]\n",
    "\\label{welfare}\\\\\n",
    "&  s.t. P\\left(  T\\left(  X\\right)  =y_{j}\\right)  =q_{j},~\\forall j\\in\\left\\{\n",
    "1,...,J\\right\\}\n",
    "\\end{align*}\n",
    "\n",
    "This is a Monge problem, whose Kantorovich relaxation is\n",
    "\n",
    "\\begin{align*}\n",
    "\\max_{\\mu\\in\\mathcal{M}\\left( \\mathbb{P}_n,q\\right)  }\\mathbb{E}_{\\mu}\\left[X^{\\intercal}Y\\right]  .\n",
    "\\end{align*}"
   ]
  },
  {
   "cell_type": "markdown",
   "metadata": {},
   "source": [
    "## Duality\n",
    "\n",
    "By the Monge-Kantorovich theorem, the dual problem is\n",
    "\n",
    "<a name='dualKantoContDiscr'></a>\n",
    "\\begin{align*}\n",
    "&  \\min_{u,v}\\mathbb{E}_{\\mathbb{P}_n}\\left[  u\\left(  X\\right)  \\right]  +\\mathbb{E} _{q}\\left[  v\\left(  Y\\right)  \\right] \\label{dualKantoContDiscr}\\\\\n",
    "&  s.t. u\\left(  x\\right)  +v\\left(  y\\right)  \\geq x^{\\intercal}y,\n",
    "\\end{align*}\n",
    "\n",
    "where the constraint should hold almost surely with respect to $P$ and $Q$.\n",
    "\n",
    "The constraint should be verified for $y\\in\\left\\{  y_{1},...,y_{J}\\right\\}  $, and the constraint+optimality implies $u\\left(  x\\right) =\\max_{j\\in\\left\\{  1,...,J\\right\\}  }\\left\\{  \\Phi\\left(  x,y_{j}\\right) -v_{j}\\right\\}  $. Thus, the [dual problem](#dualKantoContDiscr) rewrites as\n",
    "\n",
    "\\begin{align*}\n",
    "\\min_{v\\in\\mathbb{R}^{J}}\\mathbb{E}_{\\mathbb{P}_n}\\left[  \\max_{j\\in\\left\\{1,...,J\\right\\}  }\\left\\{  X^{\\intercal}y_{j}-v_{j}\\right\\}  \\right] +\\sum_{j=1}^{J}q_{j}v_{j} \\label{MKfiniteDim}\n",
    "\\end{align*}\n",
    "\n",
    "which is the minimum of $S$ over $v\\in\\mathbb{R}^{J}.$\n",
    "\n",
    "As a result:\n",
    "\n",
    "1. There exist equilibrium prices, which are the minimizers of $S$.\n",
    "\n",
    "2. The total welfare at equilibrium coincides with the optimal welfare."
   ]
  },
  {
   "cell_type": "markdown",
   "metadata": {},
   "source": [
    "### Splitting the mass\n",
    "\n",
    "Note that\n",
    "\n",
    "\\begin{align*}\n",
    "\\arg\\max_{j\\in\\left\\{  1,...,J\\right\\}  }\\left\\{  \\Phi\\left(  x,y_{j}\\right)\n",
    "-v_{j}\\right\\}\n",
    "\\end{align*}\n",
    "\n",
    "is a singleton for almost every $x$ (it is not a singleton when $x$ is at the boundary between two cells). The assumption that $P$ is absolutely continuous is crucial here.\n",
    "\n",
    "Hence the map\n",
    "\n",
    "\\begin{align*}\n",
    "T\\left(  x\\right)  =\\nabla u\\left(  x\\right)\n",
    "\\end{align*}\n",
    " \n",
    "is defined almost everywhere and coincides with $\\arg\\max$ whenever it is defined. Thus the solution does not involve to split mass."
   ]
  },
  {
   "cell_type": "markdown",
   "metadata": {},
   "source": [
    "### Determination of the equilibrium prices: Aurenhammer's method\n",
    "\n",
    "We turn to a discussion on the numerical determination of the prices (we discuss the determination of the $v$'s, as the expression for the $w$'s immediately follows). The function $S$ to minimize being convex, we can use a standard gradient descent algorithm in which the increase in prices is given by\n",
    "\n",
    "\\begin{align*}\n",
    "v_{j}^{t+1}-v_{j}^{t}=\\varepsilon\\left(  \\mathbb{P}_n\\left(  \\nabla u\\left(  X\\right)\n",
    "=y_{j}\\right)  -q_{j}\\right)  , \\label{tatonnement}%\n",
    "\\end{align*}\n",
    "\n",
    "which has immediately an economic interpretation: the fountains that are over-demanded *raise* their prices, while the fountains that are under-demanded *lower* their prices. This a *tâtonnement process*.\n",
    "\n",
    "---\n",
    "**Algorithm**\n",
    "Take an initial guess of $v^{0}$. At step $t$, define $v^{t+1}$ by\n",
    "\n",
    "\\begin{align*}\n",
    "v_{j}^{t+1}=v_{j}^{t}-\\varepsilon_{t}\\frac{\\partial S}{\\partial v_{j}}\\left(v^{t}\\right),\n",
    "\\end{align*}\n",
    "\n",
    "for $\\varepsilon_{t}$ small enough. Stop when $\\frac{\\partial S}{\\partial v_{j}}\\left(  v^{t+1}\\right)  $ is sufficiently close to zero."
   ]
  },
  {
   "cell_type": "markdown",
   "metadata": {},
   "source": [
    "### Implementation\n",
    "\n",
    "The gradient descent method is implemented as follows. "
   ]
  },
  {
   "cell_type": "code",
   "execution_count": null,
   "metadata": {},
   "outputs": [],
   "source": [
    "rel_tol = 1e-4\n",
    "q_j = np.ones(nCells)/nCells\n",
    "vtilde_j = np.zeros(nCells)\n",
    "cont = True\n",
    "pow_dia = PowerDiagram(Ys,vtilde_j)\n",
    "while cont:\n",
    "    demand_j = pow_dia.integrals()\n",
    "    if ((demand_j - q_j)/q_j).max()<rel_tol:\n",
    "        cont=False\n",
    "    else:\n",
    "        vtilde_j = vtilde_j - 0.1 * (demand_j - q_j)\n",
    "        pow_dia.set_weights(vtilde_j)\n",
    "\n",
    "pow_dia.display_jupyter()"
   ]
  },
  {
   "cell_type": "markdown",
   "metadata": {},
   "source": [
    "We can display the prices:"
   ]
  },
  {
   "cell_type": "code",
   "execution_count": null,
   "metadata": {},
   "outputs": [],
   "source": [
    "print(vtilde_j - vtilde_j[0])"
   ]
  },
  {
   "cell_type": "markdown",
   "metadata": {},
   "source": [
    "Alternatively, one could have used the following routine:"
   ]
  },
  {
   "cell_type": "code",
   "execution_count": null,
   "metadata": {},
   "outputs": [],
   "source": [
    "def make_square(box=[0, 0, 1, 1]):\n",
    "    density = ConvexPolyhedraAssembly()\n",
    "    density.add_box([box[0], box[1]], [box[2], box[3]])\n",
    "    return density\n",
    "\n",
    "dens = make_square()\n",
    "\n",
    "def optimal_transport(density, Y, masses, psi0 = None, err=1e-8):\n",
    "    center = (density.min_position() + density.max_position())/2\n",
    "    halfsides = (density.max_position() - density.min_position())/2\n",
    "    ratio = 1/np.max(np.abs((Y-center)/halfsides))\n",
    "    psi = (1-ratio)*np.sum((Y-center)**2, axis=-1)\n",
    "    ot = OptimalTransport(Y, psi, density, radial_func=RadialFuncUnit(), obj_max_dw=err)\n",
    "    ot.set_masses(masses)\n",
    "    ot.adjust_weights()\n",
    "    return ot.pd\n",
    "\n",
    "pow_dia2 = optimal_transport(dens, Ys, q_j)\n",
    "vtilde_j2 = pow_dia2.weights\n",
    "pow_dia2.display_jupyter()"
   ]
  },
  {
   "cell_type": "code",
   "execution_count": null,
   "metadata": {},
   "outputs": [],
   "source": [
    "print(vtilde_j2 - vtilde_j2[0])\n",
    "print((vtilde_j2 -vtilde_j + vtilde_j[0]- vtilde_j2[0]).max())"
   ]
  },
  {
   "cell_type": "markdown",
   "metadata": {},
   "source": [
    "**Exercise.** Implement a coordinate descent version of the algorithm."
   ]
  }
 ],
 "metadata": {
  "kernelspec": {
   "display_name": "Python 3 (ipykernel)",
   "language": "python",
   "name": "python3"
  },
  "language_info": {
   "codemirror_mode": {
    "name": "ipython",
    "version": 3
   },
   "file_extension": ".py",
   "mimetype": "text/x-python",
   "name": "python",
   "nbconvert_exporter": "python",
   "pygments_lexer": "ipython3",
   "version": "3.9.13"
  }
 },
 "nbformat": 4,
 "nbformat_minor": 2
}
