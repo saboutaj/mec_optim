{
 "cells": [
  {
   "cell_type": "markdown",
   "metadata": {},
   "source": [
    "# <center>Practice questions</center>\n",
    "### <center>Alfred Galichon (NYU & Sciences Po)</center>\n",
    "## <center>'math+econ+code' masterclass on optimal transport and economic applications</center>\n",
    "#### <center>With python code examples</center>\n",
    "© 2018-2022 by Alfred Galichon. Past and present support from NSF grant DMS-1716489, ERC grant CoG-866274 are acknowledged, as well as inputs from contributors listed [here](http://www.math-econ-code.org/theteam).\n",
    "\n",
    "**If you reuse material from this masterclass, please cite as:**<br>\n",
    "Alfred Galichon, 'math+econ+code' masterclass on optimal transport and economic applications, January 2022. https://github.com/math-econ-code/mec_optim"
   ]
  },
  {
   "cell_type": "markdown",
   "metadata": {},
   "source": [
    "# Question 1"
   ]
  },
  {
   "cell_type": "markdown",
   "metadata": {},
   "source": [
    "We consider a model of supply chain where various warehouses need to supply various stores.\n",
    "The production of warehouse $x$ is $n_x$ and the consumption of store $y$ is $m_y$, as given below. The distance from warehouse $x$ to store $y$ is given by $d_{xy}$ also given below."
   ]
  },
  {
   "cell_type": "code",
   "execution_count": 1,
   "metadata": {},
   "outputs": [],
   "source": [
    "import numpy as np\n",
    "n_x = np.array([3,1, 7,9])\n",
    "m_y = np.array([10,2,4,3,1])\n",
    "d_x_y = np.array([[0.85214983, 0.37155329, 0.47322241, 0.90300003, 0.661674  ],\n",
    "       [0.24550878, 0.81701899, 0.92805947, 0.83523321, 0.25610944],\n",
    "       [0.94513262, 0.13885835, 0.75987824, 0.1262327 , 0.02976146],\n",
    "       [0.12901883, 0.29166514, 0.51784392, 0.5080454 , 0.73698966]])"
   ]
  },
  {
   "cell_type": "markdown",
   "metadata": {},
   "source": [
    "Is it possible to find a full matching between warehouse and stores such that each store is at a distance less than $0.5$ of the warehouse(s) it is assigned to?"
   ]
  },
  {
   "cell_type": "markdown",
   "metadata": {},
   "source": [
    "### Answer to question 1:"
   ]
  },
  {
   "cell_type": "markdown",
   "metadata": {},
   "source": [
    "# Question 2"
   ]
  },
  {
   "cell_type": "markdown",
   "metadata": {},
   "source": [
    "Consider a marriage market where $n_x$, $m_y$ and $\\Phi_{xy}$ are given below:"
   ]
  },
  {
   "cell_type": "code",
   "execution_count": 2,
   "metadata": {},
   "outputs": [],
   "source": [
    "Φ_x_y =np.array([[0.33, 0.08, 0.74, 0.81, 0.65, 0.73],\n",
    "       [0.04, 0.3 , 0.87, 0.67, 0.87, 0.73],\n",
    "       [0.09, 0.34, 0.58, 0.12, 0.61, 0.14],\n",
    "       [0.18, 0.8 , 0.83, 0.02, 0.66, 0.73]])\n",
    "n_x = np.ones(4)/4\n",
    "m_y = np.ones(6)/6"
   ]
  },
  {
   "cell_type": "markdown",
   "metadata": {},
   "source": [
    "and consider the problem<br>\n",
    "$\\max_{\\mu} \\sum \\mu_{xy} \\Phi_{xy} -\\sigma \\sum \\mu_{xy}\\log \\mu_{xy}$<br>\n",
    "subject to<br>\n",
    "$\\sum_y \\mu_{xy} = n_x$ and $\\sum_x \\mu_{xy} = m_y$<br>\n",
    "and call $\\mu^\\sigma_{xy}$ its solution.<br>\n",
    "i. What is the value of $\\sum \\mu^\\sigma_{xy} \\log\\mu^\\sigma_{xy}$ when $\\sigma= 1$ ?<br>\n",
    "ii. Same question when $\\sigma = 0.001$ ?"
   ]
  },
  {
   "cell_type": "markdown",
   "metadata": {},
   "source": [
    "### Answer to question 2:"
   ]
  },
  {
   "cell_type": "markdown",
   "metadata": {},
   "source": [
    "# Question 3"
   ]
  },
  {
   "cell_type": "markdown",
   "metadata": {},
   "source": [
    "Consider the $W(\\sigma)$ the value of the maximization problem in question 2.<br>\n",
    "i. What the analytical expression for the derivative of the derivative of $W(\\sigma)$ with respect to $\\sigma$?<br>\n",
    "ii. Show that $\\sum \\mu^\\sigma_{xy} \\log\\mu^\\sigma_{xy}$ is a decreasing function of $\\sigma$."
   ]
  },
  {
   "cell_type": "markdown",
   "metadata": {},
   "source": [
    "### Answer to question 3:"
   ]
  },
  {
   "cell_type": "markdown",
   "metadata": {},
   "source": [
    "# Question 4"
   ]
  },
  {
   "cell_type": "markdown",
   "metadata": {},
   "source": [
    "Consider a matching problem where there are $n_x$ workers of type $x$ and $m_y$ firms of type $y$, and if a worker $x$ and a firm $y$ match and decide on a wage $w_{xy}$, then they get respectively $\\alpha_{xy} + w_{xy}$ and $\\gamma_{xy} - w_{xy}$,<br>\n",
    "where $\\alpha_{xy}$ is the job amenity at firm $y$ for worker $x$, and $\\gamma_{xy}$ is the production of worker $x$ working for firm $y$.<br>  \n",
    "Workers and firms may remain unmatched, in which case their payoff is normalized to zero.<br>\n",
    "There is no heterogeneity. We shall not worry about the possibility that wages $w_{xy}$ are negative.\n",
    "\n",
    "\n",
    "The values of $n_x$, $m_y$,  $\\alpha_{xy}$ and $\\gamma_{xy}$ are given by:"
   ]
  },
  {
   "cell_type": "code",
   "execution_count": 3,
   "metadata": {},
   "outputs": [],
   "source": [
    "n_x = np.ones(4)\n",
    "m_y = np.ones(7)\n",
    "α_x_y = - np.array([[0.31, 0.82, 0.12, 0.91, 0.48, 0.88, 0.53],\n",
    "       [0.99, 0.07, 0.54, 0.48, 0.79, 0.82, 0.36],\n",
    "       [0.99, 0.94, 0.89, 0.73, 0.01, 0.15, 0.02],\n",
    "       [0.83, 0.03, 0.65, 0.88, 0.25, 0.62, 0.24]])\n",
    "\n",
    "γ_x_y =np.array([[0.49, 0.85, 0.12, 0.71, 0.33, 0.42, 0.89],\n",
    "       [0.3 , 0.61, 0.88, 0.33, 0.15, 0.25, 0.  ],\n",
    "       [0.35, 0.4 , 0.99, 0.31, 0.55, 0.83, 0.99],\n",
    "       [0.85, 0.32, 0.75, 0.47, 0.35, 0.86, 0.32]])"
   ]
  },
  {
   "cell_type": "markdown",
   "metadata": {},
   "source": [
    "What are the values of $\\sum_{xy} \\mu_{xy} \\alpha_{xy}$ and $\\sum_{xy} \\mu_{xy} \\gamma_{xy}$ at equilibrium?"
   ]
  },
  {
   "cell_type": "markdown",
   "metadata": {},
   "source": [
    "### Answer to question 4:"
   ]
  },
  {
   "cell_type": "markdown",
   "metadata": {},
   "source": [
    "# Question 5"
   ]
  },
  {
   "cell_type": "markdown",
   "metadata": {},
   "source": [
    "Same question (with the same dataset) as question 4, when there is a $\\tau$=30% tax rate levied on workers, so that \n",
    "if a worker $x$ and a firm $y$ match and decide on a wage $w_{xy}$, then they get respectively $\\alpha_{xy} + (1- \\tau ) w_{xy}$ and $\\gamma_{xy} - w_{xy}$,<br>"
   ]
  },
  {
   "cell_type": "markdown",
   "metadata": {},
   "source": [
    "### Answer to question 5:"
   ]
  },
  {
   "cell_type": "markdown",
   "metadata": {},
   "source": [
    "# Question 6\n",
    "\n",
    "Consider a heterosexual population where men have masses $n_x$, women  $m_y$, and the matching patterns are $\\hat{\\mu}_{xy}$. One suggests a parameterization of the marriage surplus function $\\Phi_{xy}$ by a vector $\\lambda \\in \\mathbb{R}^3$ such that $\\Phi^\\lambda_{xy} = \\sum_k \\lambda_k \\Phi_{xyk}$."
   ]
  },
  {
   "cell_type": "code",
   "execution_count": 4,
   "metadata": {},
   "outputs": [],
   "source": [
    "Φ_x_y_k = np.array([[[0.02, 0.73, 0.26],\n",
    "        [0.54, 0.67, 0.66],\n",
    "        [0.71, 0.1 , 0.18]],\n",
    "\n",
    "       [[0.96, 0.67, 0.43],\n",
    "        [0.37, 0.59, 0.49],\n",
    "        [0.04, 0.3 , 0.23]],\n",
    "\n",
    "       [[0.  , 0.53, 0.57],\n",
    "        [0.01, 0.23, 0.91],\n",
    "        [0.21, 0.62, 0.9 ]],\n",
    "\n",
    "       [[0.12, 0.26, 0.91],\n",
    "        [0.58, 0.28, 0.86],\n",
    "        [0.06, 0.36, 0.36]]])\n",
    "\n",
    "μhat_x_y = np.array([[0.6518102 , 0.26991092, 0.95929395],\n",
    "       [0.49168379, 0.58372037, 0.28602208],\n",
    "       [0.91401411, 0.53703044, 0.13420054],\n",
    "       [0.50704129, 0.9460026 , 0.32048075]])\n",
    "\n",
    "n_x = np.array([2.0383857 , 1.3952082 , 1.60491915, 1.87454199])\n",
    "m_y = np.array([2.68424417, 2.40073755, 1.80864071])"
   ]
  },
  {
   "cell_type": "markdown",
   "metadata": {},
   "source": [
    "(i) Are there unmatched agents in this economy, and if so, what are the masses of single men and women of each type?<br>\n",
    "(ii) Based on the moment-matching method seen in block 5a, estimate the vector $\\lambda \\in \\mathbb{R}^3$."
   ]
  },
  {
   "cell_type": "markdown",
   "metadata": {},
   "source": [
    "### Answer to question 6:"
   ]
  }
 ],
 "metadata": {
  "kernelspec": {
   "display_name": "Python 3 (ipykernel)",
   "language": "python",
   "name": "python3"
  },
  "language_info": {
   "codemirror_mode": {
    "name": "ipython",
    "version": 3
   },
   "file_extension": ".py",
   "mimetype": "text/x-python",
   "name": "python",
   "nbconvert_exporter": "python",
   "pygments_lexer": "ipython3",
   "version": "3.9.13"
  }
 },
 "nbformat": 4,
 "nbformat_minor": 2
}
