{
 "cells": [
  {
   "cell_type": "markdown",
   "metadata": {},
   "source": [
    "## <center> Tutorial in Scikit-Learn and TensorFlow</center>\n",
    "#### <center>Antoine Chapel (Sciences Po)</center>"
   ]
  },
  {
   "cell_type": "markdown",
   "metadata": {},
   "source": [
    "## Introduction\n",
    "\n",
    "What is Machine Learning ? \"Machine learning is a field that develops algorithms designed to be applied to datasets, with the main areas of focus being prediction (regression), classification, and clustering or grouping tasks. These tasks are divided into two main branches, supervised and unsupervised ML.\" (Athey 2019).\n",
    " \n",
    "* supervised learning: the model is learning to associate data with labels (classification) or values (regression)\n",
    "* unsupervised learning: the model works on the data only to recognise sub-groups (classification)\n",
    "* We may add reinforcement learning: the model interacts with an environment and determines the optimal policy (for the connection with dynamic programming, check Bertsekas http://www.mit.edu/~dimitrib/RLbook.html)\n",
    "\n",
    "The use of machine learning in economics is not always natural: econometricians are concerned with causal inference, which is something ML was not built to do. ML however brings economics a set of tools that can be used either as an intermediary step (when one needs to classify observations before conducting regressions), or as a central method, in particular when the goal of the paper is to provide predictions. "
   ]
  },
  {
   "cell_type": "markdown",
   "metadata": {},
   "source": [
    "### Applications\n",
    "\n",
    "For example, Björkegren and Grissen (2019), attempt to predict individual credit risk based on mobile phone usage. Example where machine learning would be used as an intermediary step: you want to assess the impact of an agricultural policy on the crop choice by farmers. Starting from a dataset of satellite crop images, you can classify the fields using image recognition, and then identify the treatment effect using traditional econometric methods. Image recognition can also be used for urban economics using satellite images.\n",
    "\n",
    "Otherwise, in policymaking, the prediction aspect may be important. For example, you may want to install wind turbines in areas where the wind turbine project will not generate too much backlash. We will conduct such analysis at the end of the notebook."
   ]
  },
  {
   "cell_type": "markdown",
   "metadata": {},
   "source": [
    "Here, we will see two packages, Scikit-Learn and Tensorflow 2, which can be used for machine learnings applications. We will briefly review the general setup for adapting data to a machine learning project, and present some methods, in particular Ridge, Lasso, Elasticnet, and Neural networks, for regression and classification. I will also present PCA, a method allowing dimensionality reduction.\n",
    "\n",
    "Applications will be done on MNIST (the standard toy dataset for deep learning applications) and a dataset on the Beijing housing market."
   ]
  },
  {
   "cell_type": "markdown",
   "metadata": {},
   "source": [
    "### References:\n",
    "\n",
    "The Scikit-Learn documentation:\n",
    "\n",
    "* https://scikit-learn.org/stable/index.html\n",
    "\n",
    "A review of machine learning applications in economics:\n",
    "* Machine Learning Methods That Economists Should Know About, Athey & Imbens, 2019, Annual Review of Economics, Vol. 11:685-725\n",
    "\n",
    "\n",
    "Two textbooks on machine learning applications (not too much theory)\n",
    "* Hands-On Machine Learning with Scikit-Learn, Keras, and TensorFlow, 2nd Edition, A. Géron, 2019, O'Reilly Media, Inc.\n",
    "* Machine Learning for Economics and Finance in TensorFlow 2: Deep Learning Models for Research and Industry, I. Hull, 2020, Apress, 1st ed.\n",
    "\n",
    "\n",
    "Additional: More theoretical resources:\n",
    "\n",
    "* Foundations of Machine Learning, Mohri et al., MIT Press, Second Edition, 2018\n",
    "* Deep Learning, Goodfellow et al, 2016, MIT Press, http://www.deeplearningbook.org"
   ]
  },
  {
   "cell_type": "code",
   "execution_count": 1,
   "metadata": {},
   "outputs": [],
   "source": [
    "#!pip install tensorflow"
   ]
  },
  {
   "cell_type": "code",
   "execution_count": 2,
   "metadata": {},
   "outputs": [],
   "source": [
    "import numpy as np\n",
    "import pandas as pd\n",
    "import matplotlib as mpl\n",
    "import matplotlib.pyplot as plt\n",
    "\n",
    "import sklearn\n",
    "from sklearn.preprocessing import StandardScaler\n",
    "from sklearn.neural_network import MLPRegressor\n",
    "from sklearn.neural_network import MLPClassifier\n",
    "from sklearn.metrics import confusion_matrix, accuracy_score, r2_score\n",
    "from sklearn.linear_model import SGDClassifier\n",
    "from sklearn import linear_model\n",
    "from sklearn.model_selection import train_test_split\n",
    "from sklearn.model_selection import GridSearchCV\n",
    "from sklearn.model_selection import RandomizedSearchCV\n",
    "\n",
    "\n",
    "import tensorflow as tf\n",
    "from tensorflow import keras\n",
    "from tensorflow.keras import layers\n",
    "import tensorflow_probability as tfp\n",
    "tfd = tfp.distributions\n",
    "\n",
    "from math import *"
   ]
  },
  {
   "cell_type": "code",
   "execution_count": 3,
   "metadata": {},
   "outputs": [],
   "source": [
    "import warnings\n",
    "warnings.filterwarnings(\"ignore\")"
   ]
  },
  {
   "cell_type": "code",
   "execution_count": 4,
   "metadata": {},
   "outputs": [],
   "source": [
    "plt.rcParams[\"figure.figsize\"] = (5,5)"
   ]
  },
  {
   "cell_type": "markdown",
   "metadata": {},
   "source": [
    "#### Motivation: MNIST\n",
    "\n",
    "To begin with, we will solve a number classification problem. The MNIST dataset contains input of hand-written numbers, and the output is a vector containing the \"actual\" number that was written. We will train a model on a subset of the input, and then test it. The strength of scikit learn is that we can simply import the method and implement it immediately."
   ]
  },
  {
   "cell_type": "code",
   "execution_count": 5,
   "metadata": {},
   "outputs": [],
   "source": [
    "mnist = pd.read_csv(\"https://raw.githubusercontent.com/AntoineChapel/MachineLearning_CC/main/mnist_df.csv\")"
   ]
  },
  {
   "cell_type": "code",
   "execution_count": 6,
   "metadata": {},
   "outputs": [],
   "source": [
    "X, y = mnist.iloc[:, 1:785].to_numpy(), mnist['target'].to_numpy().astype(int)"
   ]
  },
  {
   "cell_type": "code",
   "execution_count": 9,
   "metadata": {},
   "outputs": [
    {
     "data": {
      "image/png": "[encoded data removed]",
      "text/plain": [
       "<Figure size 432x288 with 1 Axes>"
      ]
     },
     "metadata": {
      "needs_background": "light"
     },
     "output_type": "display_data"
    }
   ],
   "source": [
    "%matplotlib inline\n",
    "num = X[9, :].reshape(28, 28)\n",
    "plt.imshow(num, cmap=\"binary\")\n",
    "plt.show()"
   ]
  },
  {
   "cell_type": "markdown",
   "metadata": {},
   "source": [
    "The MNIST dataset is to machine/deep learning what the auto-mpg stata dataset is to econometrics. We will start from here, and then move to more econometric frameworks."
   ]
  },
  {
   "cell_type": "code",
   "execution_count": 10,
   "metadata": {},
   "outputs": [],
   "source": [
    "#Step 1: Data splitting, usually train/test, sometimes train/validation/test\n",
    "X_train, X_test, y_train, y_test = train_test_split(X, y, test_size=0.3, random_state=42)"
   ]
  },
  {
   "cell_type": "code",
   "execution_count": 9,
   "metadata": {},
   "outputs": [
    {
     "data": {
      "text/plain": [
       "SGDClassifier(random_state=42)"
      ]
     },
     "execution_count": 9,
     "metadata": {},
     "output_type": "execute_result"
    }
   ],
   "source": [
    "#Step 2: Model building and fitting\n",
    "sgd_class = SGDClassifier(random_state=42)\n",
    "sgd_class.fit(X_train, y_train)"
   ]
  },
  {
   "cell_type": "code",
   "execution_count": 10,
   "metadata": {},
   "outputs": [],
   "source": [
    "#Step 3: out of sample prediction\n",
    "y_predict = sgd_class.predict(X_test)"
   ]
  },
  {
   "cell_type": "code",
   "execution_count": 11,
   "metadata": {},
   "outputs": [
    {
     "data": {
      "text/plain": [
       "<matplotlib.image.AxesImage at 0x200f01d2508>"
      ]
     },
     "execution_count": 11,
     "metadata": {},
     "output_type": "execute_result"
    },
    {
     "data": {
      "image/png": "[encoded data removed]",
      "text/plain": [
       "<Figure size 288x288 with 1 Axes>"
      ]
     },
     "metadata": {
      "needs_background": "light"
     },
     "output_type": "display_data"
    }
   ],
   "source": [
    "#Step 4: Testing. Depending on the task, find the right test (here the task is multilabel classification)\n",
    "confusion_mnist = confusion_matrix(y_predict, y_test)\n",
    "plt.matshow(confusion_mnist, cmap = plt.cm.gray)"
   ]
  },
  {
   "cell_type": "code",
   "execution_count": 12,
   "metadata": {},
   "outputs": [
    {
     "data": {
      "text/plain": [
       "0.8661904761904762"
      ]
     },
     "execution_count": 12,
     "metadata": {},
     "output_type": "execute_result"
    }
   ],
   "source": [
    "accuracy_score(y_predict, y_test)"
   ]
  },
  {
   "cell_type": "markdown",
   "metadata": {},
   "source": [
    "The stochastic classifier is already quite good. We see on the confusion matrix that 7 are sometimes mistaken for 9. Now let us check if we can do better with a neural network built with Keras."
   ]
  },
  {
   "cell_type": "code",
   "execution_count": 11,
   "metadata": {},
   "outputs": [],
   "source": [
    "#Model training\n",
    "model_mnist = keras.models.Sequential()\n",
    "model_mnist.add(keras.layers.Dense(200, activation=\"relu\"))\n",
    "model_mnist.add(keras.layers.Dense(200, activation=\"relu\"))\n",
    "model_mnist.add(keras.layers.Dense(200, activation=\"relu\"))\n",
    "model_mnist.add(keras.layers.Dense(200, activation=\"relu\"))\n",
    "model_mnist.add(keras.layers.Dense(10, activation=\"softmax\"))\n",
    "model_mnist.compile(loss=\"sparse_categorical_crossentropy\", optimizer=\"adam\", metrics=[\"accuracy\"])"
   ]
  },
  {
   "cell_type": "code",
   "execution_count": 12,
   "metadata": {
    "scrolled": true
   },
   "outputs": [
    {
     "name": "stdout",
     "output_type": "stream",
     "text": [
      "Epoch 1/10\n",
      "392/392 [==============================] - 2s 3ms/step - loss: 1.1307 - accuracy: 0.8539 - val_loss: 0.2816 - val_accuracy: 0.9189\n",
      "Epoch 2/10\n",
      "392/392 [==============================] - 1s 3ms/step - loss: 0.2114 - accuracy: 0.9399 - val_loss: 0.2396 - val_accuracy: 0.9331\n",
      "Epoch 3/10\n",
      "392/392 [==============================] - 1s 3ms/step - loss: 0.1432 - accuracy: 0.9576 - val_loss: 0.1851 - val_accuracy: 0.9461\n",
      "Epoch 4/10\n",
      "392/392 [==============================] - 1s 3ms/step - loss: 0.1135 - accuracy: 0.9667 - val_loss: 0.2014 - val_accuracy: 0.9459\n",
      "Epoch 5/10\n",
      "392/392 [==============================] - 1s 3ms/step - loss: 0.1069 - accuracy: 0.9681 - val_loss: 0.1929 - val_accuracy: 0.9513\n",
      "Epoch 6/10\n",
      "392/392 [==============================] - 1s 3ms/step - loss: 0.0951 - accuracy: 0.9726 - val_loss: 0.1659 - val_accuracy: 0.9568\n",
      "Epoch 7/10\n",
      "392/392 [==============================] - 1s 3ms/step - loss: 0.0860 - accuracy: 0.9740 - val_loss: 0.1993 - val_accuracy: 0.9514\n",
      "Epoch 8/10\n",
      "392/392 [==============================] - 1s 3ms/step - loss: 0.0851 - accuracy: 0.9757 - val_loss: 0.1616 - val_accuracy: 0.9612\n",
      "Epoch 9/10\n",
      "392/392 [==============================] - 1s 3ms/step - loss: 0.0747 - accuracy: 0.9774 - val_loss: 0.1936 - val_accuracy: 0.9569\n",
      "Epoch 10/10\n",
      "392/392 [==============================] - 1s 3ms/step - loss: 0.0675 - accuracy: 0.9802 - val_loss: 0.1746 - val_accuracy: 0.9601\n"
     ]
    },
    {
     "data": {
      "text/plain": [
       "<keras.callbacks.History at 0x1ba9689c408>"
      ]
     },
     "execution_count": 12,
     "metadata": {},
     "output_type": "execute_result"
    }
   ],
   "source": [
    "#Model fitting\n",
    "model_mnist.fit(X_train, y_train, batch_size=100, epochs=10, validation_split=0.2)"
   ]
  },
  {
   "cell_type": "code",
   "execution_count": 13,
   "metadata": {},
   "outputs": [
    {
     "data": {
      "text/plain": [
       "<matplotlib.image.AxesImage at 0x1ba98c43688>"
      ]
     },
     "execution_count": 13,
     "metadata": {},
     "output_type": "execute_result"
    },
    {
     "data": {
      "image/png": "[encoded data removed]",
      "text/plain": [
       "<Figure size 288x288 with 1 Axes>"
      ]
     },
     "metadata": {
      "needs_background": "light"
     },
     "output_type": "display_data"
    }
   ],
   "source": [
    "y_pred = model_mnist.predict(X_test)\n",
    "class_prediction_nn = np.argmax(y_pred, axis=1)\n",
    "\n",
    "confusion_mnist_nn = confusion_matrix(class_prediction_nn, y_test)\n",
    "plt.matshow(confusion_mnist_nn, cmap = plt.cm.gray)"
   ]
  },
  {
   "cell_type": "code",
   "execution_count": 16,
   "metadata": {},
   "outputs": [
    {
     "data": {
      "text/plain": [
       "0.9565714285714285"
      ]
     },
     "execution_count": 16,
     "metadata": {},
     "output_type": "execute_result"
    }
   ],
   "source": [
    "#Out-of-sample prediction:\n",
    "accuracy_score(class_prediction_nn, y_test)"
   ]
  },
  {
   "cell_type": "markdown",
   "metadata": {},
   "source": [
    "The power of neural networks/perceptrons for image classification like the one above is impressive: with a simple, 4-layers-perceptron, we get around 95% accuracy out of the sample, the confusion matrix shows that classification is nearly perfect."
   ]
  },
  {
   "attachments": {
    "image.png": {
     "image/png": "[encoded data removed]"
    }
   },
   "cell_type": "markdown",
   "metadata": {},
   "source": [
    "## General Introduction to the Machine Learning framework\n",
    "\n",
    "As mentioned earlier, Machine learning is most often concerned with classification and regression/prediction tasks. The goal is accuracy/precision of the model, not too much its interpretability. To test how well the model performs, we need to test it out of the sample. This leads to one big concern: overfitting.\n",
    "\n",
    "![image.png](attachment:image.png)\n",
    "\n",
    "\n",
    "Overfitting happens if the model trains too much and reaches 100% accuracy/$R^2$ on the training set. However, as one can expect, the regression line above will definitely not be optimal when we provide the model with a testing sample. So, the model needs to be constrained: either by design (OLS), or by avoiding training indefinitely on the same subsample.\n",
    "\n",
    "Another form of overfitting may arise: if the scientist building the model systematically looks at what his model parameters yield once the trained model is tested on the testing sample, he will build a model that is designed to give good results on the testing sample. But then, the model would simply be overfitting on the testing sample. This temptation to cheat is why the testing sample is generally reserved until the very last step: the model should first be trained and tested on a subset of the training set and validated (pre-tested) on a subset of the training set called the validation set."
   ]
  },
  {
   "cell_type": "markdown",
   "metadata": {},
   "source": [
    "### Implementation of Scikit Learn"
   ]
  },
  {
   "cell_type": "markdown",
   "metadata": {},
   "source": [
    "For now, let's go over some simple regression designs: OLS, Ridge, Lasso and ElasticNet. These tools focus on estimating the parameter of a Linear Regression equation. The functional form is thus the following, for each observation $i$.\n",
    "\n",
    "$$y_i = \\beta_0 + \\beta_1 x_{i1} + \\beta_2 x_{i2} + ... + \\beta_j x_{ij} + \\epsilon_i$$\n",
    "\n",
    "Where __$\\beta$__ = ($\\beta_0$, ..., $\\beta_j$) are the parameters we want to estimate, and **($x_i$; $y_i$)** is the data for individual **i**.\n",
    "\n",
    "In matrix form, it can be rewritten __\\begin{align}\n",
    "y = X \\beta + \\epsilon\n",
    "\\end{align}__\n"
   ]
  },
  {
   "attachments": {
    "image.png": {
     "image/png": "[encoded data removed]"
    }
   },
   "cell_type": "markdown",
   "metadata": {},
   "source": [
    "### The simplest method: OLS\n",
    "\n",
    "We all know here about OLS: it can be implemented very simply with ScikitLearn, and we will use it as a benchmark to which subsequent methods will be compared.\n",
    "\n",
    "![image.png](attachment:image.png)"
   ]
  },
  {
   "cell_type": "markdown",
   "metadata": {},
   "source": [
    "#### The example at hand: the Beijing Housing market\n",
    "\n",
    "To present the use of scikit learn methods, we will use a dataset on the housing market in Beijing. The original dataset can be found here: https://www.kaggle.com/ruiqurm/lianjia. We are using a cleaned and pre-processed version of the data, to avoid formatting issues."
   ]
  },
  {
   "cell_type": "code",
   "execution_count": 17,
   "metadata": {},
   "outputs": [],
   "source": [
    "beijing_data = pd.read_csv(\"https://raw.githubusercontent.com/AntoineChapel/MachineLearning_CC/main/data_beijing.csv\")"
   ]
  },
  {
   "cell_type": "code",
   "execution_count": 18,
   "metadata": {},
   "outputs": [
    {
     "data": {
      "text/html": [
       "<div>\n",
       "<style scoped>\n",
       "    .dataframe tbody tr th:only-of-type {\n",
       "        vertical-align: middle;\n",
       "    }\n",
       "\n",
       "    .dataframe tbody tr th {\n",
       "        vertical-align: top;\n",
       "    }\n",
       "\n",
       "    .dataframe thead th {\n",
       "        text-align: right;\n",
       "    }\n",
       "</style>\n",
       "<table border=\"1\" class=\"dataframe\">\n",
       "  <thead>\n",
       "    <tr style=\"text-align: right;\">\n",
       "      <th></th>\n",
       "      <th>id</th>\n",
       "      <th>lng</th>\n",
       "      <th>lat</th>\n",
       "      <th>followers</th>\n",
       "      <th>totalprice</th>\n",
       "      <th>price</th>\n",
       "      <th>square</th>\n",
       "      <th>kitchen</th>\n",
       "      <th>renovationcondition</th>\n",
       "      <th>buildingstructure</th>\n",
       "      <th>...</th>\n",
       "      <th>commu_avg</th>\n",
       "      <th>dist_from_cent</th>\n",
       "      <th>logprice</th>\n",
       "      <th>logdist_from_cent</th>\n",
       "      <th>logfollowers</th>\n",
       "      <th>logcommu_avg</th>\n",
       "      <th>logladder</th>\n",
       "      <th>logsquare</th>\n",
       "      <th>logdom</th>\n",
       "      <th>log_age</th>\n",
       "    </tr>\n",
       "  </thead>\n",
       "  <tbody>\n",
       "    <tr>\n",
       "      <th>0</th>\n",
       "      <td>101084782030</td>\n",
       "      <td>116.47549</td>\n",
       "      <td>40.019520</td>\n",
       "      <td>106</td>\n",
       "      <td>415.0</td>\n",
       "      <td>31680</td>\n",
       "      <td>131.00</td>\n",
       "      <td>1</td>\n",
       "      <td>3</td>\n",
       "      <td>6</td>\n",
       "      <td>...</td>\n",
       "      <td>56021</td>\n",
       "      <td>0.104175</td>\n",
       "      <td>10.363441</td>\n",
       "      <td>-2.261679</td>\n",
       "      <td>4.672829</td>\n",
       "      <td>10.933482</td>\n",
       "      <td>-1.527858</td>\n",
       "      <td>4.875197</td>\n",
       "      <td>7.288928</td>\n",
       "      <td>2.564949</td>\n",
       "    </tr>\n",
       "    <tr>\n",
       "      <th>1</th>\n",
       "      <td>101086012217</td>\n",
       "      <td>116.45392</td>\n",
       "      <td>39.881535</td>\n",
       "      <td>126</td>\n",
       "      <td>575.0</td>\n",
       "      <td>43436</td>\n",
       "      <td>132.38</td>\n",
       "      <td>1</td>\n",
       "      <td>4</td>\n",
       "      <td>6</td>\n",
       "      <td>...</td>\n",
       "      <td>71539</td>\n",
       "      <td>0.064503</td>\n",
       "      <td>10.679044</td>\n",
       "      <td>-2.741044</td>\n",
       "      <td>4.844187</td>\n",
       "      <td>11.177998</td>\n",
       "      <td>-0.404965</td>\n",
       "      <td>4.885676</td>\n",
       "      <td>6.805723</td>\n",
       "      <td>2.639057</td>\n",
       "    </tr>\n",
       "    <tr>\n",
       "      <th>2</th>\n",
       "      <td>101086041636</td>\n",
       "      <td>116.56198</td>\n",
       "      <td>39.877144</td>\n",
       "      <td>48</td>\n",
       "      <td>1030.0</td>\n",
       "      <td>52021</td>\n",
       "      <td>198.00</td>\n",
       "      <td>1</td>\n",
       "      <td>3</td>\n",
       "      <td>6</td>\n",
       "      <td>...</td>\n",
       "      <td>48160</td>\n",
       "      <td>0.156425</td>\n",
       "      <td>10.859403</td>\n",
       "      <td>-1.855177</td>\n",
       "      <td>3.891820</td>\n",
       "      <td>10.782284</td>\n",
       "      <td>-0.693147</td>\n",
       "      <td>5.288267</td>\n",
       "      <td>7.147559</td>\n",
       "      <td>2.564949</td>\n",
       "    </tr>\n",
       "    <tr>\n",
       "      <th>3</th>\n",
       "      <td>101086406841</td>\n",
       "      <td>116.43801</td>\n",
       "      <td>40.076115</td>\n",
       "      <td>138</td>\n",
       "      <td>297.5</td>\n",
       "      <td>22202</td>\n",
       "      <td>134.00</td>\n",
       "      <td>1</td>\n",
       "      <td>1</td>\n",
       "      <td>6</td>\n",
       "      <td>...</td>\n",
       "      <td>51238</td>\n",
       "      <td>0.143917</td>\n",
       "      <td>10.007937</td>\n",
       "      <td>-1.938518</td>\n",
       "      <td>4.934474</td>\n",
       "      <td>10.844236</td>\n",
       "      <td>-1.298283</td>\n",
       "      <td>4.897840</td>\n",
       "      <td>6.872128</td>\n",
       "      <td>2.302585</td>\n",
       "    </tr>\n",
       "    <tr>\n",
       "      <th>4</th>\n",
       "      <td>101086920653</td>\n",
       "      <td>116.42839</td>\n",
       "      <td>39.886230</td>\n",
       "      <td>286</td>\n",
       "      <td>392.0</td>\n",
       "      <td>48396</td>\n",
       "      <td>81.00</td>\n",
       "      <td>1</td>\n",
       "      <td>2</td>\n",
       "      <td>2</td>\n",
       "      <td>...</td>\n",
       "      <td>62588</td>\n",
       "      <td>0.049165</td>\n",
       "      <td>10.787172</td>\n",
       "      <td>-3.012577</td>\n",
       "      <td>5.659482</td>\n",
       "      <td>11.044329</td>\n",
       "      <td>-1.099613</td>\n",
       "      <td>4.394449</td>\n",
       "      <td>6.831954</td>\n",
       "      <td>4.060443</td>\n",
       "    </tr>\n",
       "  </tbody>\n",
       "</table>\n",
       "<p>5 rows × 31 columns</p>\n",
       "</div>"
      ],
      "text/plain": [
       "             id        lng        lat  followers  totalprice  price  square  \\\n",
       "0  101084782030  116.47549  40.019520        106       415.0  31680  131.00   \n",
       "1  101086012217  116.45392  39.881535        126       575.0  43436  132.38   \n",
       "2  101086041636  116.56198  39.877144         48      1030.0  52021  198.00   \n",
       "3  101086406841  116.43801  40.076115        138       297.5  22202  134.00   \n",
       "4  101086920653  116.42839  39.886230        286       392.0  48396   81.00   \n",
       "\n",
       "   kitchen  renovationcondition  buildingstructure  ...  commu_avg  \\\n",
       "0        1                    3                  6  ...      56021   \n",
       "1        1                    4                  6  ...      71539   \n",
       "2        1                    3                  6  ...      48160   \n",
       "3        1                    1                  6  ...      51238   \n",
       "4        1                    2                  2  ...      62588   \n",
       "\n",
       "   dist_from_cent   logprice  logdist_from_cent  logfollowers  logcommu_avg  \\\n",
       "0        0.104175  10.363441          -2.261679      4.672829     10.933482   \n",
       "1        0.064503  10.679044          -2.741044      4.844187     11.177998   \n",
       "2        0.156425  10.859403          -1.855177      3.891820     10.782284   \n",
       "3        0.143917  10.007937          -1.938518      4.934474     10.844236   \n",
       "4        0.049165  10.787172          -3.012577      5.659482     11.044329   \n",
       "\n",
       "   logladder  logsquare    logdom   log_age  \n",
       "0  -1.527858   4.875197  7.288928  2.564949  \n",
       "1  -0.404965   4.885676  6.805723  2.639057  \n",
       "2  -0.693147   5.288267  7.147559  2.564949  \n",
       "3  -1.298283   4.897840  6.872128  2.302585  \n",
       "4  -1.099613   4.394449  6.831954  4.060443  \n",
       "\n",
       "[5 rows x 31 columns]"
      ]
     },
     "execution_count": 18,
     "metadata": {},
     "output_type": "execute_result"
    }
   ],
   "source": [
    "beijing_data.head()"
   ]
  },
  {
   "cell_type": "code",
   "execution_count": 19,
   "metadata": {},
   "outputs": [
    {
     "name": "stdout",
     "output_type": "stream",
     "text": [
      "Index(['id', 'lng', 'lat', 'followers', 'totalprice', 'price', 'square',\n",
      "       'kitchen', 'renovationcondition', 'buildingstructure', 'ladderratio',\n",
      "       'elevator', 'fiveyearsproperty', 'subway', 'district', 'dom_int',\n",
      "       'livingroom_int', 'drawingroom_int', 'bathroom_int', 'buildingtype_int',\n",
      "       'construction_int', 'commu_avg', 'dist_from_cent', 'logprice',\n",
      "       'logdist_from_cent', 'logfollowers', 'logcommu_avg', 'logladder',\n",
      "       'logsquare', 'logdom', 'log_age'],\n",
      "      dtype='object')\n"
     ]
    }
   ],
   "source": [
    "varnames = beijing_data.columns\n",
    "print(varnames)"
   ]
  },
  {
   "cell_type": "code",
   "execution_count": 20,
   "metadata": {},
   "outputs": [],
   "source": [
    "y_b = beijing_data['logprice'].to_numpy().reshape(-1, 1)\n",
    "X_b_short = beijing_data['dist_from_cent'].to_numpy().reshape(-1, 1)"
   ]
  },
  {
   "cell_type": "markdown",
   "metadata": {},
   "source": [
    "A good practice is to divide the dataset into a training subset and a testing subset. Scikitlearn does that automatically with us with **train_test_split** and we can also do stratified sampling if we want to ensure the representativity of our subsets."
   ]
  },
  {
   "cell_type": "code",
   "execution_count": 21,
   "metadata": {},
   "outputs": [],
   "source": [
    "X_train_b, X_test_b, y_train_b, y_test_b = train_test_split(X_b_short, y_b, test_size=0.3, random_state=42)"
   ]
  },
  {
   "cell_type": "code",
   "execution_count": 22,
   "metadata": {},
   "outputs": [],
   "source": [
    "reg = linear_model.LinearRegression()\n",
    "reg.fit(X_train_b, y_train_b)\n",
    "y_pred_s = reg.predict(X_train_b) #in-sample prediction"
   ]
  },
  {
   "cell_type": "code",
   "execution_count": 23,
   "metadata": {},
   "outputs": [
    {
     "data": {
      "image/png": "[encoded data removed]",
      "text/plain": [
       "<Figure size 432x288 with 1 Axes>"
      ]
     },
     "metadata": {
      "needs_background": "light"
     },
     "output_type": "display_data"
    }
   ],
   "source": [
    "plt.scatter(X_train_b, y_train_b, s=0.1)\n",
    "plt.plot(X_train_b, y_pred_s, 'r')\n",
    "plt.show()"
   ]
  },
  {
   "cell_type": "markdown",
   "metadata": {},
   "source": [
    "We immediately see that a linear approximation gives us some idea about the housing market structure (the furthest you are from the center, the cheaper housing). However, it is clearly not perfect, as there is a lot of unexplained variance. To measure the accuracy of the model, we can use the $R^2$ directly from sklearn as well."
   ]
  },
  {
   "cell_type": "code",
   "execution_count": 24,
   "metadata": {},
   "outputs": [
    {
     "data": {
      "text/plain": [
       "0.29842841519034147"
      ]
     },
     "execution_count": 24,
     "metadata": {},
     "output_type": "execute_result"
    }
   ],
   "source": [
    "y_pred_out = reg.predict(X_test_b) #out-sample prediction\n",
    "r2_score(y_test_b, y_pred_out)"
   ]
  },
  {
   "cell_type": "code",
   "execution_count": 25,
   "metadata": {},
   "outputs": [],
   "source": [
    "features = ['lng', 'lat', 'kitchen', 'renovationcondition', 'buildingstructure', 'ladderratio', 'elevator', 'fiveyearsproperty', 'subway', 'district', 'livingroom_int', 'drawingroom_int', 'bathroom_int', 'construction_int', 'commu_avg', 'logdist_from_cent', 'logfollowers', 'logcommu_avg', 'logladder', 'logdom', 'log_age']\n",
    "X_b_long = beijing_data[features].to_numpy()"
   ]
  },
  {
   "cell_type": "markdown",
   "metadata": {},
   "source": [
    "First, let's re-do an OLS regression with multiple predictors. We write it as a function."
   ]
  },
  {
   "cell_type": "code",
   "execution_count": 26,
   "metadata": {},
   "outputs": [],
   "source": [
    "def ols_reg(y, X):\n",
    "    X_train, X_test, y_train, y_test = train_test_split(X, y, test_size=0.3, random_state=42)\n",
    "    reg_ols = linear_model.LinearRegression()\n",
    "    reg_ols.fit(X_train, y_train)\n",
    "    y_predict = reg_ols.predict(X_test)\n",
    "    return reg_ols.coef_, reg_ols.coef_.shape, r2_score(y_test, y_predict) "
   ]
  },
  {
   "cell_type": "code",
   "execution_count": 27,
   "metadata": {},
   "outputs": [],
   "source": [
    "coef_ols, size_ols, r2_ols = ols_reg(y_b, X_b_long)"
   ]
  },
  {
   "cell_type": "code",
   "execution_count": 28,
   "metadata": {},
   "outputs": [
    {
     "name": "stdout",
     "output_type": "stream",
     "text": [
      "[[-1.06188976e-01  1.38460555e-02  1.45959111e-01  4.20352936e-02\n",
      "   1.20085318e-03 -5.16990867e-09 -2.23851540e-03 -3.23175175e-02\n",
      "   6.10203712e-03  1.17730704e-03 -2.77443371e-02 -2.16688498e-02\n",
      "  -2.63103019e-02 -2.62604515e-03 -9.98761173e-07 -2.94957081e-02\n",
      "   1.38484820e-02  9.97146888e-01  2.47312449e-02  9.49736702e-02\n",
      "  -1.97911799e-02]]\n",
      "(1, 21)\n",
      "0.7447412224088903\n"
     ]
    }
   ],
   "source": [
    "print(coef_ols)\n",
    "print(size_ols)\n",
    "print(r2_ols)"
   ]
  },
  {
   "cell_type": "markdown",
   "metadata": {},
   "source": [
    "So, we have our 21 coefficients, and a satisfying $R^2$ out of the sample of 74.4%. In traditional econometrics methods, we would try to run t-tests to assess whether the variables are significant, worry about possible endogeneity issues... This is easy in Stata or R, but a bit tedious in Python. So, if we want to reduce the number of coefficients and make the model a bit more interpretable, we should use regularised regressions, such as Ridge, Lasso, and Elasticnet."
   ]
  },
  {
   "cell_type": "markdown",
   "metadata": {},
   "source": [
    "### Linear models\n",
    "\n",
    "The goal of these methods is to improve the efficiency of our predictions, by keeping only the most relevant coefficients. Instead of using 21 features in our data, we may reduce the size of the problem. In OLS, there is by definition no penalisation, thus we solve, given $k$ features:\n",
    "\n",
    "\\begin{align*}\n",
    "    \\min_{\\beta} ||X\\beta - y||_2^2\n",
    "\\end{align*}\n",
    "\n",
    "#### Ridge:\n",
    "\n",
    "\\begin{align*}\n",
    "    \\min_{\\beta} ||X\\beta - y||_2^2 + \\alpha ||\\beta||_2^2\n",
    "\\end{align*}\n",
    "\n",
    "Here, $||\\cdot||_2^2$ denotes the l2-norm, which develops as $\\sum_{j=1}^k \\beta_j^2$\n",
    "\n",
    "Ridge can be used to make the coefficients robust to collinearity (variables that are linear combinations of other variables). In the dataset at hand, it will not be useful. $\\alpha$ is the regularisation parameter. Equal to 0, we find back OLS. The larger it is, the most the coefficients will be robust to collinearity.\n",
    "\n",
    "\n",
    "#### LASSO (Least Absolute Shrinkage and Selection Operator):\n",
    "\n",
    "\\begin{align*}\n",
    "    \\min_{\\beta} ||X \\beta - y||_2^2 + \\alpha ||\\beta||_1\n",
    "\\end{align*}\n",
    "\n",
    "LASSO penalises the coefficients that are close to 0, and thus leads to a restricted set of explanatory variables. Here, $||\\cdot||_1$ denotes the l1-norm, which develops as $\\sum_{j=1}^k |\\beta_j|$. $\\alpha$ is the regularisation parameter, but this time, using the l1-norm instead of the l2-norm allows us to bring coefficients that are close to 0 to 0 exactly. Doing so, we can reduce the number of coefficients. Obviously, it will be done at the loss of some precision of the model, which will be reflected by the $R^2$.\n",
    "\n",
    "#### Elastic-Net\n",
    "\n",
    "\\begin{align*}\n",
    "    \\min_{\\beta} ||X \\beta - y||_2^2 + \\alpha \\rho ||\\beta||_1 + \\frac{\\alpha (1 - \\rho)}{2} ||\\beta||_2^2\n",
    "\\end{align*}\n",
    "\n",
    "As we can see, Elastic-Net allows us to use a linear combination of l1-norm and l2-norm penalisation. It is using 2 parameters, $\\alpha$ and $\\rho$, which are respectively the regularisation parameter and the share of l1-norm penalisation in the process.\n",
    "\n"
   ]
  },
  {
   "cell_type": "code",
   "execution_count": 29,
   "metadata": {},
   "outputs": [],
   "source": [
    "def linear_reg(y, X, method, α=0.1, l1_r=0.5):\n",
    "    \n",
    "    X_train, X_test, y_train, y_test = train_test_split(X, y, test_size=0.3, random_state=42)\n",
    "    \n",
    "    if method==\"OLS\":\n",
    "        lin_reg = linear_model.LinearRegression()\n",
    "    elif method==\"Ridge\":\n",
    "        lin_reg = linear_model.Ridge(alpha=α)\n",
    "    elif method==\"Lasso\":\n",
    "        lin_reg = linear_model.Lasso(alpha=α)\n",
    "    elif method==\"ElasticNet\":\n",
    "        lin_reg = linear_model.ElasticNet(alpha=α, l1_ratio = l1_r)\n",
    "    \n",
    "    lin_reg.fit(X_train, y_train)\n",
    "    y_predict = lin_reg.predict(X_test)\n",
    "    \n",
    "    coef_list = lin_reg.coef_[lin_reg.coef_ != 0]\n",
    "    coef_ind = np.argwhere(lin_reg.coef_ != 0)\n",
    "    coef_names = np.array(features)[[coef_ind]]\n",
    "    \n",
    "    return coef_list, len(coef_list), r2_score(y_test, y_predict), coef_ind"
   ]
  },
  {
   "cell_type": "code",
   "execution_count": 30,
   "metadata": {},
   "outputs": [
    {
     "name": "stdout",
     "output_type": "stream",
     "text": [
      "[-1.06188976e-01  1.38460555e-02  1.45959111e-01  4.20352936e-02\n",
      "  1.20085318e-03 -5.16990867e-09 -2.23851540e-03 -3.23175175e-02\n",
      "  6.10203712e-03  1.17730704e-03 -2.77443371e-02 -2.16688498e-02\n",
      " -2.63103019e-02 -2.62604515e-03 -9.98761173e-07 -2.94957081e-02\n",
      "  1.38484820e-02  9.97146888e-01  2.47312449e-02  9.49736702e-02\n",
      " -1.97911799e-02]\n",
      "21\n",
      "0.7447412224088903\n"
     ]
    }
   ],
   "source": [
    "regression_ols = linear_reg(y_b, X_b_long, method=\"OLS\")\n",
    "coefs_ols, nbcoefs_ols, r2_ols = regression_ols[0], regression_ols[1], regression_ols[2]\n",
    "\n",
    "print(coefs_ols)\n",
    "print(nbcoefs_ols)\n",
    "print(r2_ols)"
   ]
  },
  {
   "cell_type": "code",
   "execution_count": 31,
   "metadata": {},
   "outputs": [
    {
     "data": {
      "text/plain": [
       "array(['lng', 'lat', 'kitchen', 'renovationcondition',\n",
       "       'buildingstructure', 'ladderratio', 'elevator',\n",
       "       'fiveyearsproperty', 'subway', 'district', 'livingroom_int',\n",
       "       'drawingroom_int', 'bathroom_int', 'construction_int', 'commu_avg',\n",
       "       'logdist_from_cent', 'logfollowers', 'logcommu_avg', 'logladder',\n",
       "       'logdom', 'log_age'], dtype='<U19')"
      ]
     },
     "execution_count": 31,
     "metadata": {},
     "output_type": "execute_result"
    }
   ],
   "source": [
    "np.array(features)[[regression_ols[3]]][:, 1]"
   ]
  },
  {
   "cell_type": "code",
   "execution_count": 32,
   "metadata": {},
   "outputs": [
    {
     "name": "stdout",
     "output_type": "stream",
     "text": [
      "[ 7.61869951e-03  4.74007355e-08 -1.24118333e-03  1.44728336e-05\n",
      "  7.28613849e-03  8.84109890e-02]\n",
      "6\n",
      "0.700160192657924\n"
     ]
    }
   ],
   "source": [
    "regression_elastic = linear_reg(y_b, X_b_long, method=\"ElasticNet\")\n",
    "coefs_elastic, nbcoefs_elastic, r2_elastic = regression_elastic[0], regression_elastic[1], regression_elastic[2]\n",
    "\n",
    "print(coefs_elastic)\n",
    "print(nbcoefs_elastic)\n",
    "print(r2_elastic)"
   ]
  },
  {
   "cell_type": "code",
   "execution_count": 33,
   "metadata": {},
   "outputs": [
    {
     "data": {
      "text/plain": [
       "array([['renovationcondition'],\n",
       "       ['ladderratio'],\n",
       "       ['construction_int'],\n",
       "       ['commu_avg'],\n",
       "       ['logfollowers'],\n",
       "       ['logdom']], dtype='<U19')"
      ]
     },
     "execution_count": 33,
     "metadata": {},
     "output_type": "execute_result"
    }
   ],
   "source": [
    "np.array(features)[[regression_elastic[3]]]"
   ]
  },
  {
   "cell_type": "markdown",
   "metadata": {},
   "source": [
    "ElasticNet regression shows us that we can obtain a $R^2$ of 70% with a simpler linear model of only 6 variables instead of 21"
   ]
  },
  {
   "cell_type": "markdown",
   "metadata": {},
   "source": [
    "## Hyperparameter tuning\n",
    "\n",
    "As seen earlier, some statistical models imported with Sklearn rely on hyperparameters. For example, for ElasticNet, the regularisation parameter $\\alpha$ and the l1-penalisation parameter $\\rho$. How to fix these hyperparameters in an optimal manner should not be done by testing how the model performs on the testing set, since it would lead to overfitting again. Instead, we will use a tool sklearn provides: Grid Search.\n",
    "\n",
    "The idea is to specify a list of hyperparameter values that will be tested on the training set using the Cross-Validation principle (repeated training and validation on the training set). When the number of hyperparameters grows big, and it is time consuming to test every possible combination of values, we may rely on Randomized Grid Search. Let us try these methods using ElasticNet:"
   ]
  },
  {
   "cell_type": "code",
   "execution_count": 34,
   "metadata": {},
   "outputs": [],
   "source": [
    "X_train_b, X_test_b, y_train_b, y_test_b = train_test_split(X_b_long, y_b, test_size=0.3, random_state=42)"
   ]
  },
  {
   "cell_type": "code",
   "execution_count": 36,
   "metadata": {},
   "outputs": [
    {
     "data": {
      "text/plain": [
       "GridSearchCV(cv=5, estimator=ElasticNet(),\n",
       "             param_grid={'alpha': array([1.00000000e-05, 2.37137371e-05, 5.62341325e-05, 1.33352143e-04,\n",
       "       3.16227766e-04, 7.49894209e-04, 1.77827941e-03, 4.21696503e-03,\n",
       "       1.00000000e-02]),\n",
       "                         'l1_ratio': array([0.1, 0.2, 0.3, 0.4, 0.5, 0.6, 0.7, 0.8, 0.9])})"
      ]
     },
     "execution_count": 36,
     "metadata": {},
     "output_type": "execute_result"
    }
   ],
   "source": [
    "#Here, we have two parameters, with 9 possible values each, so 81 possible combinations\n",
    "\n",
    "parameters = {'alpha': np.logspace(0, 3, 9, base=10)/(10**5), \n",
    "              'l1_ratio': np.linspace(0.1, 0.9, 9)}\n",
    "model_elasticnet = linear_model.ElasticNet()\n",
    "elasticreg = GridSearchCV(model_elasticnet, parameters, cv=5)\n",
    "elasticreg"
   ]
  },
  {
   "cell_type": "code",
   "execution_count": 37,
   "metadata": {},
   "outputs": [
    {
     "data": {
      "text/plain": [
       "GridSearchCV(cv=5, estimator=ElasticNet(),\n",
       "             param_grid={'alpha': array([1.00000000e-05, 2.37137371e-05, 5.62341325e-05, 1.33352143e-04,\n",
       "       3.16227766e-04, 7.49894209e-04, 1.77827941e-03, 4.21696503e-03,\n",
       "       1.00000000e-02]),\n",
       "                         'l1_ratio': array([0.1, 0.2, 0.3, 0.4, 0.5, 0.6, 0.7, 0.8, 0.9])})"
      ]
     },
     "execution_count": 37,
     "metadata": {},
     "output_type": "execute_result"
    }
   ],
   "source": [
    "elasticreg.fit(X_train_b, y_train_b)"
   ]
  },
  {
   "cell_type": "code",
   "execution_count": 38,
   "metadata": {},
   "outputs": [
    {
     "data": {
      "text/plain": [
       "{'alpha': 5.6234132519034914e-05, 'l1_ratio': 0.8}"
      ]
     },
     "execution_count": 38,
     "metadata": {},
     "output_type": "execute_result"
    }
   ],
   "source": [
    "elasticreg.best_params_"
   ]
  },
  {
   "cell_type": "code",
   "execution_count": 39,
   "metadata": {},
   "outputs": [],
   "source": [
    "# Exercise 1: Now, instantiate an elasticnet regression of your own. Does it perform better than the one obtained earlier ? (It should)\n",
    "# What is the issue with doing this with ElasticNet ?\n"
   ]
  },
  {
   "cell_type": "code",
   "execution_count": 40,
   "metadata": {},
   "outputs": [],
   "source": [
    "# Exercise 2: redo the Grid Searching through the following grid (with 400 combinations) using RandomizedSearchCV.\n",
    "# What is the limitation of this method ?\n",
    "\n",
    "parameters_randomized = {'alpha': np.logspace(0, 3, 20)/(10**5), \n",
    "              'l1_ratio': np.linspace(0.01, 0.1, 20)}\n"
   ]
  },
  {
   "cell_type": "markdown",
   "metadata": {},
   "source": [
    "## Support Vector Machines\n",
    "\n",
    "SVMs are another machine learning that were originally designed to handle classification tasks. In one sentence, a SVM classifier works under the hood by projecting the data to a higher-dimensional space and finding a linear separator between the categories. For this part, we will rely on an example by Aurélien Géron (Hands On Machine Learning) relying on polynomial classification and the Pipeline technique, which can be used to synthesize the building of a machine learning model with Scikit Learn. Here, we see the classification of a noisy nonlinear dataset."
   ]
  },
  {
   "cell_type": "code",
   "execution_count": 41,
   "metadata": {},
   "outputs": [
    {
     "data": {
      "text/plain": [
       "<matplotlib.collections.PathCollection at 0x200f1161388>"
      ]
     },
     "execution_count": 41,
     "metadata": {},
     "output_type": "execute_result"
    },
    {
     "data": {
      "image/png": "[encoded data removed]",
      "text/plain": [
       "<Figure size 432x288 with 1 Axes>"
      ]
     },
     "metadata": {
      "needs_background": "light"
     },
     "output_type": "display_data"
    }
   ],
   "source": [
    "from sklearn.datasets import make_moons\n",
    "from sklearn.pipeline import Pipeline\n",
    "from sklearn.preprocessing import PolynomialFeatures\n",
    "from sklearn.svm import SVC\n",
    "\n",
    "X, y = make_moons(n_samples=1000, noise=0.25)\n",
    "\n",
    "df = pd.DataFrame(dict(X1=X[:, 0], X2=X[:, 1], target = y))\n",
    "plt.scatter(df['X1'], df['X2'], c=df['target'].map({0:'red', 1:'green'}))"
   ]
  },
  {
   "cell_type": "code",
   "execution_count": 42,
   "metadata": {},
   "outputs": [
    {
     "data": {
      "text/plain": [
       "Pipeline(steps=[('poly_features', PolynomialFeatures(degree=3)),\n",
       "                ('scaler', StandardScaler()), ('svm_clf', SVC(C=10))])"
      ]
     },
     "execution_count": 42,
     "metadata": {},
     "output_type": "execute_result"
    }
   ],
   "source": [
    "X_train_svm, X_test_svm, y_train_svm, y_test_svm = train_test_split(X, y, test_size=0.2)\n",
    "\n",
    "polynomial_svm_clf = Pipeline([\n",
    "(\"poly_features\", PolynomialFeatures(degree=3)),\n",
    "(\"scaler\", StandardScaler()),\n",
    "(\"svm_clf\", SVC(C=10))\n",
    "])\n",
    "\n",
    "polynomial_svm_clf.fit(X_train_svm, y_train_svm)"
   ]
  },
  {
   "cell_type": "code",
   "execution_count": 43,
   "metadata": {},
   "outputs": [
    {
     "name": "stdout",
     "output_type": "stream",
     "text": [
      "0.93\n"
     ]
    }
   ],
   "source": [
    "y_pred = polynomial_svm_clf.predict(X_test_svm)\n",
    "print(accuracy_score(y_pred, y_test_svm))"
   ]
  },
  {
   "cell_type": "markdown",
   "metadata": {},
   "source": [
    "NB: SVMs are versatile and can also be used for regression. "
   ]
  },
  {
   "cell_type": "markdown",
   "metadata": {},
   "source": [
    "## Neural Networks: the Multi-Layer Perceptron\n",
    "\n",
    "I will not go into the inner workings of a neural network here. For details, go to the book \"Deep Learning\", by Ian Goodfellow et al.\n",
    "\n",
    "Now let's move away from linear models and try neural networks. If you have lived in a cave for the last 8 years or so you may not have heard of it. It has proved remarkably efficient for detecting nonlinear patterns, and do image recognition.\n",
    "\n",
    "There is a neural network available in scikitlearn, that we will implement here, but Google has developed a much more advanced tool, TensorFlow, which will give us more control. TensorFlow can be a bit complex to learn and use, but the high-level API Keras makes it easy to build (simple) neural nets.\n",
    "\n",
    "Tensorflow can be used to do a lot more than deep learning (optimisation, regression tasks...), so I refer the interested student to the resource \"Machine Learning for Economics and Finance in TensorFlow 2\" (Isaiah Hull), in which the author does nearly everything (OLS, PCA...) in TensorFlow only.\n",
    "\n",
    "First, it is recommended that we scale the data, and scikitlearn has a tool for this. You may check, by training the model on un-scaled data, that the model is performing clearly worse."
   ]
  },
  {
   "cell_type": "code",
   "execution_count": 44,
   "metadata": {},
   "outputs": [],
   "source": [
    "scaler_b = StandardScaler()\n",
    "scaler_b.fit(X_train_b)\n",
    "X_train_bs = scaler_b.transform(X_train_b)\n",
    "X_test_bs = scaler_b.transform(X_test_b)"
   ]
  },
  {
   "cell_type": "code",
   "execution_count": 45,
   "metadata": {},
   "outputs": [
    {
     "data": {
      "text/plain": [
       "MLPRegressor(batch_size=1000, early_stopping=True, max_iter=50)"
      ]
     },
     "execution_count": 45,
     "metadata": {},
     "output_type": "execute_result"
    }
   ],
   "source": [
    "nn_b = MLPRegressor(max_iter=50, activation='relu', early_stopping=True, batch_size=1000)\n",
    "nn_b.fit(X_train_bs, y_train_b)"
   ]
  },
  {
   "cell_type": "code",
   "execution_count": 46,
   "metadata": {},
   "outputs": [
    {
     "data": {
      "text/plain": [
       "0.7596804395983046"
      ]
     },
     "execution_count": 46,
     "metadata": {},
     "output_type": "execute_result"
    }
   ],
   "source": [
    "#If our goal was to predict the housing price, we now have a good predictor that clearly outperforms OLS.\n",
    "#We may gain some additional precision points by tweaking the parameters.\n",
    "y_pred_o_nn = nn_b.predict(X_test_bs)\n",
    "r2_score(y_test_b, y_pred_o_nn)"
   ]
  },
  {
   "cell_type": "code",
   "execution_count": 47,
   "metadata": {},
   "outputs": [],
   "source": [
    "#This increase in precision is done at the expense of interpretability\n",
    "coefs_nn = nn_b.coefs_"
   ]
  },
  {
   "cell_type": "code",
   "execution_count": 48,
   "metadata": {},
   "outputs": [
    {
     "data": {
      "text/plain": [
       "(21, 100)"
      ]
     },
     "execution_count": 48,
     "metadata": {},
     "output_type": "execute_result"
    }
   ],
   "source": [
    "coefs_nn[0].shape"
   ]
  },
  {
   "cell_type": "markdown",
   "metadata": {},
   "source": [
    "Given that there are 100 layers (default) in our neural network, and we have 21 variables, there are 2100 weights in our model that are difficult to interpret. Now let us build a neural network with TensorFlow and Keras. Here, we will build a simple neural network with the simplest way to use the Keras API: Sequential."
   ]
  },
  {
   "cell_type": "code",
   "execution_count": 49,
   "metadata": {},
   "outputs": [
    {
     "name": "stdout",
     "output_type": "stream",
     "text": [
      "Epoch 1/10\n",
      "852/852 [==============================] - 1s 1ms/step - loss: 4.5910 - val_loss: 0.9818\n",
      "Epoch 2/10\n",
      "852/852 [==============================] - 1s 1ms/step - loss: 0.1542 - val_loss: 0.5057\n",
      "Epoch 3/10\n",
      "852/852 [==============================] - 1s 1ms/step - loss: 0.0798 - val_loss: 0.4948\n",
      "Epoch 4/10\n",
      "852/852 [==============================] - 1s 1ms/step - loss: 0.0590 - val_loss: 0.5683\n",
      "Epoch 5/10\n",
      "852/852 [==============================] - 1s 1ms/step - loss: 0.0500 - val_loss: 0.7402\n",
      "Epoch 6/10\n",
      "852/852 [==============================] - 1s 1ms/step - loss: 0.0457 - val_loss: 0.8750\n",
      "Epoch 7/10\n",
      "852/852 [==============================] - 1s 1ms/step - loss: 0.0441 - val_loss: 0.9836\n",
      "Epoch 8/10\n",
      "852/852 [==============================] - 1s 1ms/step - loss: 0.0419 - val_loss: 1.0098\n",
      "Epoch 9/10\n",
      "852/852 [==============================] - 1s 1ms/step - loss: 0.0416 - val_loss: 1.0995\n",
      "Epoch 10/10\n",
      "852/852 [==============================] - 1s 1ms/step - loss: 0.0407 - val_loss: 1.1660\n"
     ]
    }
   ],
   "source": [
    "model_beijing_nn = tf.keras.Sequential()\n",
    "model_beijing_nn.add(tf.keras.layers.Dense(50, activation='relu'))\n",
    "model_beijing_nn.add(tf.keras.layers.Dense(50, activation='relu'))\n",
    "model_beijing_nn.add(tf.keras.layers.Dense(50, activation='relu'))\n",
    "model_beijing_nn.add(tf.keras.layers.Dense(1))\n",
    "model_beijing_nn.compile(optimizer='adam', loss='mse')\n",
    "\n",
    "history_beijing = model_beijing_nn.fit(X_train_bs, y_train_b, batch_size=100, epochs=10, validation_split=0.2)"
   ]
  },
  {
   "cell_type": "code",
   "execution_count": 50,
   "metadata": {},
   "outputs": [],
   "source": [
    "y_pred_bs = model_beijing_nn.predict(X_test_bs)"
   ]
  },
  {
   "cell_type": "code",
   "execution_count": 51,
   "metadata": {},
   "outputs": [
    {
     "data": {
      "text/plain": [
       "0.7967649055098327"
      ]
     },
     "execution_count": 51,
     "metadata": {},
     "output_type": "execute_result"
    }
   ],
   "source": [
    "r2_score(y_test_b, y_pred_bs)"
   ]
  },
  {
   "cell_type": "code",
   "execution_count": 52,
   "metadata": {},
   "outputs": [
    {
     "data": {
      "image/png": "[encoded data removed]",
      "text/plain": [
       "<Figure size 576x360 with 1 Axes>"
      ]
     },
     "metadata": {
      "needs_background": "light"
     },
     "output_type": "display_data"
    }
   ],
   "source": [
    "pd.DataFrame(history_beijing.history).plot(figsize=(8, 5))\n",
    "plt.grid(True)\n",
    "plt.show()"
   ]
  },
  {
   "cell_type": "markdown",
   "metadata": {},
   "source": [
    "We may gain some precision by adding layers to the network, and adding data to the model. We should be careful however to avoid overfitting: if we add too many layers, the model risks becoming \"too good\" at predicting housing prices within the sample, but being unable to make any meaningful prediction out of the sample. In any case, with our 80% $R^2$ predictor out of the sample, we have a convincing approximation of the housing price in Beijing."
   ]
  },
  {
   "cell_type": "markdown",
   "metadata": {},
   "source": [
    "### Dimensionality Reduction: PCA"
   ]
  },
  {
   "cell_type": "markdown",
   "metadata": {},
   "source": [
    "In computational sciences, the \"curse of dimensionality\" is often faced. We have so much data available that, geometrically, the dataset becomes an object with too many dimensions to be exploitable. A possible solution is PCA: Principal components analysis. A bit like regularisation, we need to accept to lose some of the noise of the data in order to make the data more \"friendly\" to the model. I won't go into the details of PCA, but briefly, it consists in projecting the data orthogonally on several consecutive \"axis\", which are the principal components. The goal of PCA is to obtain a dataset which still allows classification/regression, but relies on a smaller number of variables. Here, we will look at what this means in practice."
   ]
  },
  {
   "cell_type": "code",
   "execution_count": 53,
   "metadata": {},
   "outputs": [],
   "source": [
    "from sklearn.decomposition import PCA\n",
    "\n",
    "#Two options: first, you can specify the number of variables you want to end up with. Here, we want to plot it, so 2 is good.\n",
    "pca1 = PCA(n_components=2)\n",
    "X_reduced_bs = pca1.fit_transform(X_train_bs)"
   ]
  },
  {
   "cell_type": "code",
   "execution_count": 54,
   "metadata": {},
   "outputs": [
    {
     "data": {
      "image/png": "[encoded data removed]",
      "text/plain": [
       "<Figure size 432x288 with 1 Axes>"
      ]
     },
     "metadata": {
      "needs_background": "light"
     },
     "output_type": "display_data"
    },
    {
     "name": "stdout",
     "output_type": "stream",
     "text": [
      "[0.17455936 0.12837277]\n"
     ]
    }
   ],
   "source": [
    "plt.scatter(X_reduced_bs[:, 0], X_reduced_bs[:, 1], s=0.1)\n",
    "plt.show()\n",
    "print(pca1.explained_variance_ratio_)"
   ]
  },
  {
   "cell_type": "markdown",
   "metadata": {},
   "source": [
    "Issue: we can see with \"explained_variance_ratio_\" that the two first principal components only explain 0.17 + 0.13 = 30% of the data variance. We would rather aim at something like 90% or 95%. To do so:"
   ]
  },
  {
   "cell_type": "code",
   "execution_count": 55,
   "metadata": {},
   "outputs": [
    {
     "name": "stdout",
     "output_type": "stream",
     "text": [
      "(106474, 14)\n",
      "0.921170098566794\n"
     ]
    },
    {
     "data": {
      "image/png": "[encoded data removed]",
      "text/plain": [
       "<Figure size 432x288 with 1 Axes>"
      ]
     },
     "metadata": {},
     "output_type": "display_data"
    }
   ],
   "source": [
    "pca2 = PCA(n_components = 0.9)\n",
    "\n",
    "\n",
    "X_reduced_bs2 = pca2.fit_transform(X_train_bs)\n",
    "print(X_reduced_bs2.shape)\n",
    "print(np.sum(pca2.explained_variance_ratio_))\n",
    "plt.pie(pca2.explained_variance_ratio_)\n",
    "plt.show()"
   ]
  },
  {
   "cell_type": "markdown",
   "metadata": {},
   "source": [
    "New issue: we still have 14 variables, which is not a major improvement compared to the original 21. Here, any computer is able to handle the 21 variables, but if this problem arises in a problem with thousands of variables, one needs to try alternative techniques for dimensionality reduction (see Géron textbook)."
   ]
  },
  {
   "cell_type": "code",
   "execution_count": 56,
   "metadata": {},
   "outputs": [],
   "source": [
    "ncomp = 144\n",
    "\n",
    "\n",
    "X, y = mnist.iloc[:, 1:785].to_numpy(), mnist['target'].to_numpy().astype(int)\n",
    "X_train, X_test, y_train, y_test = train_test_split(X, y, test_size=0.3, random_state=42)\n",
    "pca_mnist = PCA(n_components = ncomp)\n",
    "X_train_reduced = pca_mnist.fit_transform(X_train)\n",
    "X_test_reduced = pca_mnist.transform(X_test)"
   ]
  },
  {
   "cell_type": "code",
   "execution_count": 57,
   "metadata": {},
   "outputs": [
    {
     "name": "stdout",
     "output_type": "stream",
     "text": [
      "0.9453900824575866\n"
     ]
    }
   ],
   "source": [
    "print(np.sum(pca_mnist.explained_variance_ratio_))"
   ]
  },
  {
   "cell_type": "code",
   "execution_count": 58,
   "metadata": {},
   "outputs": [
    {
     "name": "stdout",
     "output_type": "stream",
     "text": [
      "(49000, 784)\n",
      "(49000, 144)\n"
     ]
    }
   ],
   "source": [
    "print(X_train.shape)\n",
    "print(X_train_reduced.shape)"
   ]
  },
  {
   "cell_type": "code",
   "execution_count": 59,
   "metadata": {},
   "outputs": [
    {
     "data": {
      "text/plain": [
       "0.9453900824575866"
      ]
     },
     "execution_count": 59,
     "metadata": {},
     "output_type": "execute_result"
    }
   ],
   "source": [
    "np.sum(pca_mnist.explained_variance_ratio_)"
   ]
  },
  {
   "cell_type": "code",
   "execution_count": 60,
   "metadata": {},
   "outputs": [
    {
     "data": {
      "image/png": "[encoded data removed]",
      "text/plain": [
       "<Figure size 432x288 with 1 Axes>"
      ]
     },
     "metadata": {
      "needs_background": "light"
     },
     "output_type": "display_data"
    }
   ],
   "source": [
    "num = X_train[3, :].reshape(28, 28)\n",
    "plt.imshow(num, cmap=\"binary\")\n",
    "plt.show()"
   ]
  },
  {
   "cell_type": "code",
   "execution_count": 61,
   "metadata": {},
   "outputs": [
    {
     "data": {
      "image/png": "[encoded data removed]",
      "text/plain": [
       "<Figure size 432x288 with 1 Axes>"
      ]
     },
     "metadata": {
      "needs_background": "light"
     },
     "output_type": "display_data"
    }
   ],
   "source": [
    "num = X_train_reduced[3, :].reshape(int(sqrt(ncomp)), int(sqrt(ncomp)))\n",
    "plt.imshow(num, cmap=\"binary\")\n",
    "plt.show()"
   ]
  },
  {
   "cell_type": "code",
   "execution_count": 62,
   "metadata": {},
   "outputs": [],
   "source": [
    "X_train_inversed = pca_mnist.inverse_transform(X_train_reduced)"
   ]
  },
  {
   "cell_type": "code",
   "execution_count": 63,
   "metadata": {},
   "outputs": [
    {
     "data": {
      "image/png": "[encoded data removed]",
      "text/plain": [
       "<Figure size 432x288 with 1 Axes>"
      ]
     },
     "metadata": {
      "needs_background": "light"
     },
     "output_type": "display_data"
    }
   ],
   "source": [
    "num = X_train_inversed[3, :].reshape(28, 28)\n",
    "plt.imshow(num, cmap=\"binary\")\n",
    "plt.show()"
   ]
  },
  {
   "cell_type": "markdown",
   "metadata": {},
   "source": [
    "Although the image is a bit noisy, we did not lose much data. We may train the model on the PCA-transformed array X_train_reduced instead of the original X_train, making the classification faster. Feel free to experiment with over values for compression, using one or the other method described earlier."
   ]
  },
  {
   "cell_type": "code",
   "execution_count": 64,
   "metadata": {},
   "outputs": [],
   "source": [
    "# Exercise 3 : implement the MNIST classification task with a Keras neural network\n",
    "# on the data that was compressed using PCA, and compare its accuracy with\n",
    "# the original classification task. Make sure to use the right activation and loss functions.\n",
    "\n"
   ]
  },
  {
   "cell_type": "markdown",
   "metadata": {},
   "source": [
    "## Introduction to TensorFlow\n",
    "\n",
    "This part is based on the Hull reference: Machine Learning for Economics and Finance in TensorFlow 2"
   ]
  },
  {
   "cell_type": "code",
   "execution_count": 65,
   "metadata": {},
   "outputs": [
    {
     "name": "stdout",
     "output_type": "stream",
     "text": [
      "tf.Tensor(\n",
      "[[ True]\n",
      " [ True]], shape=(2, 1), dtype=bool)\n"
     ]
    }
   ],
   "source": [
    "#Equivalent of a numpy array in TensorFlow:\n",
    "\n",
    "X = tf.constant([[1, 2],\n",
    "                 [3, 4]], tf.float32)\n",
    "y = tf.constant([[3], \n",
    "                 [8]], tf.float32)\n",
    "\n",
    "\n",
    "print(tf.matmul(X, y) == X@y)"
   ]
  },
  {
   "cell_type": "code",
   "execution_count": 66,
   "metadata": {},
   "outputs": [
    {
     "name": "stdout",
     "output_type": "stream",
     "text": [
      "tf.Tensor(\n",
      "[[2.0000305 ]\n",
      " [0.49999237]], shape=(2, 1), dtype=float32)\n"
     ]
    }
   ],
   "source": [
    "#OLS in TensorFlow:\n",
    "\n",
    "beta = tf.linalg.inv(tf.transpose(X) @ X) @ (tf.transpose(X) @ y)\n",
    "print(beta)"
   ]
  },
  {
   "cell_type": "code",
   "execution_count": 67,
   "metadata": {},
   "outputs": [],
   "source": [
    "def ols_predict(X_test, beta):\n",
    "    y_predict = tf.matmul(X_test, beta)\n",
    "    return y_predict"
   ]
  },
  {
   "cell_type": "code",
   "execution_count": 68,
   "metadata": {},
   "outputs": [
    {
     "name": "stdout",
     "output_type": "stream",
     "text": [
      "tf.Tensor(\n",
      "[[3.0000153]\n",
      " [8.000061 ]], shape=(2, 1), dtype=float32) tf.Tensor(\n",
      "[[3.]\n",
      " [8.]], shape=(2, 1), dtype=float32)\n"
     ]
    }
   ],
   "source": [
    "y_pred = ols_predict(X, beta)\n",
    "print(y_pred, y)"
   ]
  },
  {
   "cell_type": "markdown",
   "metadata": {},
   "source": [
    "## Generalized Linear Model with TensorFlow\n",
    "\n",
    "This part was taken and adapted from https://yxue-me.com/post/2019-09-21-tensorflow-for-statisticians-2019/. It relies on the TensorFlow Probability library, which is more advanced than the rest of this tutorial. If you are interested in going further, you should take a look here: https://www.tensorflow.org/probability?hl=fr"
   ]
  },
  {
   "cell_type": "code",
   "execution_count": 69,
   "metadata": {},
   "outputs": [
    {
     "data": {
      "text/plain": [
       "<tf.Tensor: shape=(5,), dtype=float32, numpy=\n",
       "array([ 1.7109102 , -0.2803424 ,  1.9079707 , -0.05166156,  0.6280364 ],\n",
       "      dtype=float32)>"
      ]
     },
     "execution_count": 69,
     "metadata": {},
     "output_type": "execute_result"
    }
   ],
   "source": [
    "#Data Generation: Quick tuto on TensorFlow Probability\n",
    "#Set up a distribution:\n",
    "ndist = tfd.Normal(loc = 0, scale = 1)\n",
    "\n",
    "#Take a sample of 5 draws:\n",
    "ndist.sample(5)"
   ]
  },
  {
   "cell_type": "code",
   "execution_count": 70,
   "metadata": {},
   "outputs": [
    {
     "data": {
      "text/plain": [
       "<tf.Tensor: shape=(20, 3), dtype=int32, numpy=\n",
       "array([[0, 1, 1],\n",
       "       [0, 1, 1],\n",
       "       [0, 1, 1],\n",
       "       [0, 0, 1],\n",
       "       [0, 0, 1],\n",
       "       [0, 0, 1],\n",
       "       [0, 1, 1],\n",
       "       [0, 0, 1],\n",
       "       [0, 0, 1],\n",
       "       [0, 0, 1],\n",
       "       [0, 0, 1],\n",
       "       [0, 0, 1],\n",
       "       [0, 1, 1],\n",
       "       [0, 1, 1],\n",
       "       [0, 1, 1],\n",
       "       [0, 0, 1],\n",
       "       [0, 0, 1],\n",
       "       [0, 0, 1],\n",
       "       [0, 0, 0],\n",
       "       [0, 1, 1]])>"
      ]
     },
     "execution_count": 70,
     "metadata": {},
     "output_type": "execute_result"
    }
   ],
   "source": [
    "#Bernoulli:\n",
    "bdist = tfd.Bernoulli(probs=[-10, 0.5, 0.9])\n",
    "bdist.sample(20)"
   ]
  },
  {
   "cell_type": "code",
   "execution_count": 71,
   "metadata": {},
   "outputs": [],
   "source": [
    "#Data Simulation\n",
    "data = tfd.Normal(loc= 0, scale = 1).sample([10000, 20])\n",
    "pars = tfd.Beta(2, 3).sample([20, 1])\n",
    "lp = data @ pars\n",
    "Y = tf.reshape(tf.cast(tfd.Bernoulli(probs=lp, dtype = np.float32).sample(1), dtype = np.float32), 10000)"
   ]
  },
  {
   "cell_type": "code",
   "execution_count": 72,
   "metadata": {},
   "outputs": [],
   "source": [
    "#Option 1: tfp.glm.fit\n",
    "w, linear_response, is_converged, num_iter = tfp.glm.fit(model_matrix = data, response = Y, model = tfp.glm.Bernoulli())"
   ]
  },
  {
   "cell_type": "code",
   "execution_count": 73,
   "metadata": {},
   "outputs": [
    {
     "name": "stdout",
     "output_type": "stream",
     "text": [
      "Epoch 1/10\n",
      "10/10 [==============================] - 0s 999us/step - loss: 0.5490\n",
      "Epoch 2/10\n",
      "10/10 [==============================] - 0s 1ms/step - loss: 0.2946\n",
      "Epoch 3/10\n",
      "10/10 [==============================] - 0s 1ms/step - loss: 0.2159\n",
      "Epoch 4/10\n",
      "10/10 [==============================] - 0s 1ms/step - loss: 0.1810\n",
      "Epoch 5/10\n",
      "10/10 [==============================] - 0s 1ms/step - loss: 0.1631\n",
      "Epoch 6/10\n",
      "10/10 [==============================] - 0s 1ms/step - loss: 0.1524\n",
      "Epoch 7/10\n",
      "10/10 [==============================] - 0s 1ms/step - loss: 0.1447\n",
      "Epoch 8/10\n",
      "10/10 [==============================] - 0s 1ms/step - loss: 0.1391\n",
      "Epoch 9/10\n",
      "10/10 [==============================] - 0s 1ms/step - loss: 0.1347\n",
      "Epoch 10/10\n",
      "10/10 [==============================] - 0s 999us/step - loss: 0.1311\n"
     ]
    },
    {
     "data": {
      "text/plain": [
       "<keras.callbacks.History at 0x2017d4bff48>"
      ]
     },
     "execution_count": 73,
     "metadata": {},
     "output_type": "execute_result"
    }
   ],
   "source": [
    "#Option 2: Keras\n",
    "model_glm = tf.keras.Sequential()\n",
    "model_glm.add(layers.Dense(1, activation = \"sigmoid\"))\n",
    "model_glm.compile(optimizer = tf.optimizers.Adam(0.05), loss = 'BinaryCrossentropy')\n",
    "model_glm.fit(data, Y, epochs = 10, batch_size = 1024)"
   ]
  },
  {
   "cell_type": "code",
   "execution_count": 74,
   "metadata": {},
   "outputs": [
    {
     "data": {
      "text/plain": [
       "array([[1.5476562 ],\n",
       "       [1.5945425 ],\n",
       "       [1.4098365 ],\n",
       "       [1.5348563 ],\n",
       "       [0.8680767 ],\n",
       "       [2.2522497 ],\n",
       "       [1.6124176 ],\n",
       "       [0.25305015],\n",
       "       [0.9425288 ],\n",
       "       [0.58567697],\n",
       "       [2.1909125 ],\n",
       "       [0.20936796],\n",
       "       [0.40090698],\n",
       "       [1.5517644 ],\n",
       "       [1.8131294 ],\n",
       "       [0.7720003 ],\n",
       "       [0.85735404],\n",
       "       [1.2410616 ],\n",
       "       [1.3905089 ],\n",
       "       [0.89756656]], dtype=float32)"
      ]
     },
     "execution_count": 74,
     "metadata": {},
     "output_type": "execute_result"
    }
   ],
   "source": [
    "model_glm.weights[0].numpy()"
   ]
  },
  {
   "cell_type": "code",
   "execution_count": 75,
   "metadata": {},
   "outputs": [
    {
     "data": {
      "text/plain": [
       "array([[1.5615354 ],\n",
       "       [1.6151834 ],\n",
       "       [1.3195904 ],\n",
       "       [1.5078776 ],\n",
       "       [0.81928235],\n",
       "       [2.1917088 ],\n",
       "       [1.6208267 ],\n",
       "       [0.25970194],\n",
       "       [0.96157074],\n",
       "       [0.5722857 ],\n",
       "       [2.335817  ],\n",
       "       [0.24222252],\n",
       "       [0.33490622],\n",
       "       [1.5336287 ],\n",
       "       [1.7106426 ],\n",
       "       [0.7676628 ],\n",
       "       [0.84719825],\n",
       "       [1.2232621 ],\n",
       "       [1.4053323 ],\n",
       "       [0.8839661 ]], dtype=float32)"
      ]
     },
     "execution_count": 75,
     "metadata": {},
     "output_type": "execute_result"
    }
   ],
   "source": [
    "w.numpy().reshape(20, 1)"
   ]
  },
  {
   "cell_type": "markdown",
   "metadata": {},
   "source": [
    "### To go further\n",
    "\n",
    "Scikit-Learn, TensorFlow, Keras all offer much more possibilities than what was very briefly presented here. Ensemble methods, unsupervised learning, deep reinforcement learning, can all be done with the tools we introduced in this notebook. The documentation of Scikit-Learn and Keras are very good, and Google has done tutorials on how to use TensorFlow."
   ]
  }
 ],
 "metadata": {
  "kernelspec": {
   "display_name": "Python 3 (ipykernel)",
   "language": "python",
   "name": "python3"
  },
  "language_info": {
   "codemirror_mode": {
    "name": "ipython",
    "version": 3
   },
   "file_extension": ".py",
   "mimetype": "text/x-python",
   "name": "python",
   "nbconvert_exporter": "python",
   "pygments_lexer": "ipython3",
   "version": "3.9.13"
  }
 },
 "nbformat": 4,
 "nbformat_minor": 2
}
